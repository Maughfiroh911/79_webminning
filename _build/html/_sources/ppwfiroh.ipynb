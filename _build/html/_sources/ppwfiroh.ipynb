{
 "cells": [
  {
   "cell_type": "markdown",
   "id": "8b708a56",
   "metadata": {},
   "source": [
    "## Maughfirotu Jannah"
   ]
  },
  {
   "cell_type": "markdown",
   "id": "61814ea6",
   "metadata": {},
   "source": [
    "## CRAWLING DATA "
   ]
  },
  {
   "cell_type": "markdown",
   "id": "657edca0",
   "metadata": {},
   "source": [
    "Data adalah  kumpulan atau catatan fakta yang menggambarkan suatu kejadian, dan masih dalam bentuk data mentah sehingga perlu diolah lebih lanjut untuk menghasilkan informasi. Crawling adalah proses menjelajahi web dan mengunduh halaman web secara otomatis untuk mengumpulkan informasi. Program yang khusus bertugas melakukan crawling disebut Crawler. (Hanifah & Nurhasanah, 2018)"
   ]
  },
  {
   "cell_type": "code",
   "execution_count": null,
   "id": "9c415fc8",
   "metadata": {},
   "outputs": [],
   "source": [
    "import scrapy\n",
    "\n",
    "class Crawling(scrapy.Spider):\n",
    "    name = \"Crawling\"\n",
    "    \n",
    "    def start_requests(self):\n",
    "        x = 100000\n",
    "        for i in range (1,5):\n",
    "            x +=1\n",
    "            urls = [\n",
    "                'https://pta.trunojoyo.ac.id/welcome/detail/040411'+str(x),\n",
    "                'https://pta.trunojoyo.ac.id/welcome/detail/050411'+str(x),\n",
    "                'https://pta.trunojoyo.ac.id/welcome/detail/060411'+str(x),\n",
    "                'https://pta.trunojoyo.ac.id/welcome/detail/070411'+str(x),\n",
    "                'https://pta.trunojoyo.ac.id/welcome/detail/080411'+str(x),\n",
    "                'https://pta.trunojoyo.ac.id/welcome/detail/090411'+str(x),\n",
    "            ]\n",
    "            for url in urls:\n",
    "                yield scrapy.Request(url=url, callback=self.parse)\n",
    "    \n",
    "    def parse(self, response):\n",
    "        yield{\n",
    "            'judul' : response.css('#content_journal > ul > li > div:nth-child(2) > a').extract(),\n",
    "            'abstrak' : response.css('#content_journal > ul > li > div:nth-child(4) > div:nth-child(2) > p').extract()\n",
    "        }"
   ]
  },
  {
   "cell_type": "code",
   "execution_count": null,
   "id": "ac75aef3",
   "metadata": {},
   "outputs": [],
   "source": [
    "scrapy crawl Crawling"
   ]
  },
  {
   "cell_type": "markdown",
   "id": "b1d2d3d0",
   "metadata": {},
   "source": [
    "### Menggunakan 50 Data PTA, 25 Kategori RPL dan 25 Kategori CAI "
   ]
  },
  {
   "cell_type": "code",
   "execution_count": 2,
   "id": "3a294bc8",
   "metadata": {},
   "outputs": [
    {
     "name": "stdout",
     "output_type": "stream",
     "text": [
      "Requirement already satisfied: numpy in c:\\users\\hp\\appdata\\local\\programs\\python\\python39\\lib\\site-packages (1.22.3)\n"
     ]
    }
   ],
   "source": [
    "#library numpy berfungsi untuk melakukan operasi vektor dan matriks dengan mengolah array dan array multidimensi. \n",
    "#Library NumPy digunakan untuk kebutuhan dalam menganalisis data.\n",
    "!pip install numpy"
   ]
  },
  {
   "cell_type": "code",
   "execution_count": 3,
   "id": "8360c0fa",
   "metadata": {},
   "outputs": [
    {
     "name": "stdout",
     "output_type": "stream",
     "text": [
      "Requirement already satisfied: pandas in c:\\users\\hp\\appdata\\local\\programs\\python\\python39\\lib\\site-packages (1.4.1)\n",
      "Requirement already satisfied: python-dateutil>=2.8.1 in c:\\users\\hp\\appdata\\local\\programs\\python\\python39\\lib\\site-packages (from pandas) (2.8.2)\n",
      "Requirement already satisfied: numpy>=1.18.5 in c:\\users\\hp\\appdata\\local\\programs\\python\\python39\\lib\\site-packages (from pandas) (1.22.3)\n",
      "Requirement already satisfied: pytz>=2020.1 in c:\\users\\hp\\appdata\\local\\programs\\python\\python39\\lib\\site-packages (from pandas) (2021.3)\n",
      "Requirement already satisfied: six>=1.5 in c:\\users\\hp\\appdata\\local\\programs\\python\\python39\\lib\\site-packages (from python-dateutil>=2.8.1->pandas) (1.16.0)\n"
     ]
    }
   ],
   "source": [
    "#library pandas digunakan untuk mengelola data berbentuk tabel atau disebut dengan dataframe\n",
    "#Library yang digunakan untuk Penanganan, manipulasi, dan analisis data\n",
    "!pip install pandas"
   ]
  },
  {
   "cell_type": "code",
   "execution_count": 4,
   "id": "b81bceba",
   "metadata": {},
   "outputs": [
    {
     "name": "stdout",
     "output_type": "stream",
     "text": [
      "Requirement already satisfied: nltk in c:\\users\\hp\\appdata\\local\\programs\\python\\python39\\lib\\site-packages (3.7)\n",
      "Requirement already satisfied: click in c:\\users\\hp\\appdata\\local\\programs\\python\\python39\\lib\\site-packages (from nltk) (8.0.4)\n",
      "Requirement already satisfied: joblib in c:\\users\\hp\\appdata\\local\\programs\\python\\python39\\lib\\site-packages (from nltk) (1.1.0)\n",
      "Requirement already satisfied: regex>=2021.8.3 in c:\\users\\hp\\appdata\\local\\programs\\python\\python39\\lib\\site-packages (from nltk) (2022.3.15)\n",
      "Requirement already satisfied: tqdm in c:\\users\\hp\\appdata\\local\\programs\\python\\python39\\lib\\site-packages (from nltk) (4.63.0)\n",
      "Requirement already satisfied: colorama in c:\\users\\hp\\appdata\\local\\programs\\python\\python39\\lib\\site-packages (from click->nltk) (0.4.4)\n"
     ]
    }
   ],
   "source": [
    "#NLTK adalah singkatan dari Natural Language Tool Kit\n",
    "#library yang digunakan untuk membantu kita dalam bekerja dengan teks\n",
    "#Library ini memudahkan kita untuk memproses teks seperti melakukan classification, tokenization, stemming, tagging, parsing, dan semantic reasoning.\n",
    "!pip install nltk"
   ]
  },
  {
   "cell_type": "code",
   "execution_count": 5,
   "id": "afa87f72",
   "metadata": {},
   "outputs": [
    {
     "name": "stdout",
     "output_type": "stream",
     "text": [
      "Requirement already satisfied: Sastrawi in c:\\users\\hp\\appdata\\local\\programs\\python\\python39\\lib\\site-packages (1.0.1)\n"
     ]
    }
   ],
   "source": [
    "#Library sastrawi digunakan untuk melakukan tokenisasi (tokenize) dan membuang stopwords dari teks.\n",
    "!pip install Sastrawi"
   ]
  },
  {
   "cell_type": "code",
   "execution_count": 1,
   "id": "0ae0cb68",
   "metadata": {},
   "outputs": [],
   "source": [
    "import numpy as np\n",
    "import pandas as pd\n",
    "\n",
    "import nltk\n",
    "from nltk.corpus import stopwords\n",
    "from nltk.tokenize import word_tokenize\n",
    "\n",
    "from Sastrawi.Stemmer.StemmerFactory import StemmerFactory "
   ]
  },
  {
   "cell_type": "markdown",
   "id": "752f43b1",
   "metadata": {},
   "source": [
    "### Menampilkan dokumen  dari hasil Crawling"
   ]
  },
  {
   "cell_type": "code",
   "execution_count": 2,
   "id": "ab0f6a15",
   "metadata": {},
   "outputs": [
    {
     "data": {
      "text/html": [
       "<div>\n",
       "<style scoped>\n",
       "    .dataframe tbody tr th:only-of-type {\n",
       "        vertical-align: middle;\n",
       "    }\n",
       "\n",
       "    .dataframe tbody tr th {\n",
       "        vertical-align: top;\n",
       "    }\n",
       "\n",
       "    .dataframe thead th {\n",
       "        text-align: right;\n",
       "    }\n",
       "</style>\n",
       "<table border=\"1\" class=\"dataframe\">\n",
       "  <thead>\n",
       "    <tr style=\"text-align: right;\">\n",
       "      <th></th>\n",
       "      <th>no</th>\n",
       "      <th>abstrak</th>\n",
       "      <th>kategori</th>\n",
       "      <th>kat_biner</th>\n",
       "    </tr>\n",
       "  </thead>\n",
       "  <tbody>\n",
       "    <tr>\n",
       "      <th>0</th>\n",
       "      <td>1</td>\n",
       "      <td>Perkembangan game yang semakin pesat, memberik...</td>\n",
       "      <td>rpl</td>\n",
       "      <td>0</td>\n",
       "    </tr>\n",
       "    <tr>\n",
       "      <th>1</th>\n",
       "      <td>2</td>\n",
       "      <td>Sistem pengenalan wajah adalah suatu sistem un...</td>\n",
       "      <td>cai</td>\n",
       "      <td>1</td>\n",
       "    </tr>\n",
       "    <tr>\n",
       "      <th>2</th>\n",
       "      <td>3</td>\n",
       "      <td>Sidik jari adalah salah satu karakteristik fis...</td>\n",
       "      <td>cai</td>\n",
       "      <td>1</td>\n",
       "    </tr>\n",
       "    <tr>\n",
       "      <th>3</th>\n",
       "      <td>4</td>\n",
       "      <td>Teknologi biometrik saat ini mengalami perkemb...</td>\n",
       "      <td>cai</td>\n",
       "      <td>1</td>\n",
       "    </tr>\n",
       "    <tr>\n",
       "      <th>4</th>\n",
       "      <td>5</td>\n",
       "      <td>Dalam setiap perusahaan tentunya memiliki data...</td>\n",
       "      <td>rpl</td>\n",
       "      <td>0</td>\n",
       "    </tr>\n",
       "  </tbody>\n",
       "</table>\n",
       "</div>"
      ],
      "text/plain": [
       "   no                                            abstrak kategori  kat_biner\n",
       "0   1  Perkembangan game yang semakin pesat, memberik...      rpl          0\n",
       "1   2  Sistem pengenalan wajah adalah suatu sistem un...      cai          1\n",
       "2   3  Sidik jari adalah salah satu karakteristik fis...      cai          1\n",
       "3   4  Teknologi biometrik saat ini mengalami perkemb...      cai          1\n",
       "4   5  Dalam setiap perusahaan tentunya memiliki data...      rpl          0"
      ]
     },
     "execution_count": 2,
     "metadata": {},
     "output_type": "execute_result"
    }
   ],
   "source": [
    "df = pd.read_csv(\"abstrakv1.csv\")\n",
    "df.head()"
   ]
  },
  {
   "cell_type": "markdown",
   "id": "a68cc1d1",
   "metadata": {},
   "source": [
    "## PREPROCESSING "
   ]
  },
  {
   "cell_type": "markdown",
   "id": "30019faa",
   "metadata": {},
   "source": [
    "Preprocessing merupakan proses awal yang akan mentransformasikan data masukan menjadi data dengan format yang sesuai dan siap untuk diproses (Setyohadi et al., 2017).  Tahapan dalam proses text preprocessing antara lain yaitu cleansing, tokenizing, filtering, stopword dan lain-lain. Penerapan tahap text preprocessing dapat berbeda-beda untuk setiap bahasa tergantung dengan kebutuhan, karena perbedaan dalam bahasa tentu memiliki arti yang berbeda untuk tiap katanya."
   ]
  },
  {
   "cell_type": "markdown",
   "id": "31329248",
   "metadata": {},
   "source": [
    "### Case Folding\n",
    "Case folding merupakan langkah dalam pengolahan data yang bertujuan untuk mengubah ataumenghilangkan semua huruf kapital pada dokumen menjadi huruf kecil"
   ]
  },
  {
   "cell_type": "code",
   "execution_count": 3,
   "id": "bc4434d0",
   "metadata": {},
   "outputs": [
    {
     "data": {
      "text/plain": [
       "0     perkembangan game yang semakin pesat, memberik...\n",
       "1     sistem pengenalan wajah adalah suatu sistem un...\n",
       "2     sidik jari adalah salah satu karakteristik fis...\n",
       "3     teknologi biometrik saat ini mengalami perkemb...\n",
       "4     dalam setiap perusahaan tentunya memiliki data...\n",
       "5     penggunaan teknologi mobile saat ini sangat ma...\n",
       "6     pengenalan tulisan tangan merupakan topik pene...\n",
       "7      citra senyum merupakan salah satu fitur biome...\n",
       "8     kantor badan kepegawaian kota bangkalan adalah...\n",
       "9     perusahaan pemerintah maupun swasta mempunyai ...\n",
       "10    penyusunan sistem pendukung keputusan pemiliha...\n",
       "11    penelitian ini membahas tentang perancangan si...\n",
       "12    deteksi manusia merupakan  suatu aplikasi yang...\n",
       "13    dengan prediksi yang baik, dapat dibuat rencan...\n",
       "14    berawal dari permintaan akan straw (sperma bek...\n",
       "15    obat merupakan salah satu kebutuhan penting da...\n",
       "16    seiring dengan perubahan dalam paradigma pemba...\n",
       "17    kabupaten bangkalan memiliki lahan pertanian s...\n",
       "18    pengenalan tulisan tangan adalah salah satu ca...\n",
       "19    perkembangan teknologi informasi beberapa deka...\n",
       "20    persaingan produk unggulan daerah semakin keta...\n",
       "21    bahasa madura sebagai salah satu bahasa daerah...\n",
       "22    komunikasi merupakan hal yang sangat penting d...\n",
       "23    layanan akademik merupakan usaha yang dilakuka...\n",
       "24    sesuai dengan peraturan yang telah ditentukan ...\n",
       "25    media pembelajaran merupakan salah satu solusi...\n",
       "26    jalan raya merupakan prasarana transportasi ya...\n",
       "27    optical font recognition (ofr) merupakan  tekn...\n",
       "28    dinas kebudayaan dan pariwisata provinsi jawa ...\n",
       "29    pengenalan obyek merupakan penelitian yang men...\n",
       "30    pengenalan wajah sudah berkembang sehingga per...\n",
       "31    pengenalan suara merupakan gagasan teknologi y...\n",
       "32    berbagai penelitian tentang citra sidik jari, ...\n",
       "33    pengenalan wajah merupakan salah satu teknolog...\n",
       "34    game adalah kata dari  bahasa inggris yang ber...\n",
       "35     sistem pengenalan karakter plat nomor kendara...\n",
       "36    bahasa madura merupakan bahasa lokal tradision...\n",
       "37    selama ini prediksi ketepatan kelulusan mahasi...\n",
       "38    pengenalan  pola  tulisan  tangan  adalah  seb...\n",
       "39    perkembangan  teknologi  informasi  dan  komun...\n",
       "40    pesatnya perkembangan teknologi saat ini telah...\n",
       "41    sosialisasi uu nomor 22 tahun 2009 merupakan h...\n",
       "42    sistem pengenalan sidik jari bertujuan untuk m...\n",
       "43    pemilihan rektor merupakan agenda rutin yang d...\n",
       "44    teknik data mining adalah suatu cara yang digu...\n",
       "45    permasalahan machine learning dan pattern reco...\n",
       "46    pendeteksian plagiarisme dilakukan untuk mende...\n",
       "47    teknologi pendeteksian obyek menggunakan kamer...\n",
       "48    pada era teknologi informasi ini banyak hal ya...\n",
       "49    perkembangan mobile phone akhir-akhir ini sema...\n",
       "Name: abstrak_baru, dtype: object"
      ]
     },
     "execution_count": 3,
     "metadata": {},
     "output_type": "execute_result"
    }
   ],
   "source": [
    "data_abstrak = df['abstrak']\n",
    "data_abstrak = data_abstrak.str.lower()\n",
    "df['abstrak_baru'] = data_abstrak\n",
    "df['abstrak_baru']"
   ]
  },
  {
   "cell_type": "markdown",
   "id": "c90f083b",
   "metadata": {},
   "source": [
    "### Menghilangkan Angka dan Remove Punctuation \n",
    "Remove Punctuation merupakan teknik penghilangan tanda baca yang digunakan dalam sebuah teks untuk membedakan antara kalimat dan bagian penyusunnya dan untukmemperjelas maknanya"
   ]
  },
  {
   "cell_type": "code",
   "execution_count": 4,
   "id": "a73e2133",
   "metadata": {},
   "outputs": [],
   "source": [
    "import re #library re (regular expression (regex)) dapat digunakan untuk menghapus karakter angka.\n",
    "import string #library String digunakan untuk memproses string Python standar\n",
    "\n",
    "def remove_number(text):\n",
    "    return  re.sub(r\"\\d+\", \"\", text)\n",
    "\n",
    "df['abstrak_baru'] = df['abstrak_baru'].apply(remove_number)\n",
    "\n",
    "#remove punctuation\n",
    "def remove_punctuation(text):\n",
    "    return text.translate(str.maketrans(\"\",\"\",string.punctuation))\n",
    "\n",
    "df['abstrak_baru'] = df['abstrak_baru'].apply(remove_punctuation)"
   ]
  },
  {
   "cell_type": "code",
   "execution_count": 5,
   "id": "575f27de",
   "metadata": {},
   "outputs": [
    {
     "data": {
      "text/plain": [
       "0     perkembangan game yang semakin pesat memberika...\n",
       "1     sistem pengenalan wajah adalah suatu sistem un...\n",
       "2     sidik jari adalah salah satu karakteristik fis...\n",
       "3     teknologi biometrik saat ini mengalami perkemb...\n",
       "4     dalam setiap perusahaan tentunya memiliki data...\n",
       "5     penggunaan teknologi mobile saat ini sangat ma...\n",
       "6     pengenalan tulisan tangan merupakan topik pene...\n",
       "7      citra senyum merupakan salah satu fitur biome...\n",
       "8     kantor badan kepegawaian kota bangkalan adalah...\n",
       "9     perusahaan pemerintah maupun swasta mempunyai ...\n",
       "10    penyusunan sistem pendukung keputusan pemiliha...\n",
       "11    penelitian ini membahas tentang perancangan si...\n",
       "12    deteksi manusia merupakan  suatu aplikasi yang...\n",
       "13    dengan prediksi yang baik dapat dibuat rencana...\n",
       "14    berawal dari permintaan akan straw sperma beku...\n",
       "15    obat merupakan salah satu kebutuhan penting da...\n",
       "16    seiring dengan perubahan dalam paradigma pemba...\n",
       "17    kabupaten bangkalan memiliki lahan pertanian s...\n",
       "18    pengenalan tulisan tangan adalah salah satu ca...\n",
       "19    perkembangan teknologi informasi beberapa deka...\n",
       "20    persaingan produk unggulan daerah semakin keta...\n",
       "21    bahasa madura sebagai salah satu bahasa daerah...\n",
       "22    komunikasi merupakan hal yang sangat penting d...\n",
       "23    layanan akademik merupakan usaha yang dilakuka...\n",
       "24    sesuai dengan peraturan yang telah ditentukan ...\n",
       "25    media pembelajaran merupakan salah satu solusi...\n",
       "26    jalan raya merupakan prasarana transportasi ya...\n",
       "27    optical font recognition ofr merupakan  teknik...\n",
       "28    dinas kebudayaan dan pariwisata provinsi jawa ...\n",
       "29    pengenalan obyek merupakan penelitian yang men...\n",
       "30    pengenalan wajah sudah berkembang sehingga per...\n",
       "31    pengenalan suara merupakan gagasan teknologi y...\n",
       "32    berbagai penelitian tentang citra sidik jari t...\n",
       "33    pengenalan wajah merupakan salah satu teknolog...\n",
       "34    game adalah kata dari  bahasa inggris yang ber...\n",
       "35     sistem pengenalan karakter plat nomor kendara...\n",
       "36    bahasa madura merupakan bahasa lokal tradision...\n",
       "37    selama ini prediksi ketepatan kelulusan mahasi...\n",
       "38    pengenalan  pola  tulisan  tangan  adalah  seb...\n",
       "39    perkembangan  teknologi  informasi  dan  komun...\n",
       "40    pesatnya perkembangan teknologi saat ini telah...\n",
       "41    sosialisasi uu nomor  tahun  merupakan hal yan...\n",
       "42    sistem pengenalan sidik jari bertujuan untuk m...\n",
       "43    pemilihan rektor merupakan agenda rutin yang d...\n",
       "44    teknik data mining adalah suatu cara yang digu...\n",
       "45    permasalahan machine learning dan pattern reco...\n",
       "46    pendeteksian plagiarisme dilakukan untuk mende...\n",
       "47    teknologi pendeteksian obyek menggunakan kamer...\n",
       "48    pada era teknologi informasi ini banyak hal ya...\n",
       "49    perkembangan mobile phone akhirakhir ini semak...\n",
       "Name: abstrak_baru, dtype: object"
      ]
     },
     "execution_count": 5,
     "metadata": {},
     "output_type": "execute_result"
    }
   ],
   "source": [
    "df['abstrak_baru']"
   ]
  },
  {
   "cell_type": "markdown",
   "id": "25d7de3c",
   "metadata": {},
   "source": [
    "### Stopword "
   ]
  },
  {
   "cell_type": "markdown",
   "id": "33472f94",
   "metadata": {},
   "source": [
    "Stopword adalah stopwords merupakan kata yang diabaikan dalam pemrosesan dan biasanya disimpan di dalam stop lists. Stop list ini berisi daftar kata umum yang mempunyai fungsi tapi tidak mempunyai arti. Contoh stopword dalam bahasa Indonesia adalah “yang”, “dan”, “di”, “dari”, dll. "
   ]
  },
  {
   "cell_type": "code",
   "execution_count": 6,
   "id": "8f2c196b",
   "metadata": {},
   "outputs": [],
   "source": [
    "def stopping_word(contents):    \n",
    "    data_kata = []\n",
    "    stop_words = stopwords.words('english')\n",
    "    stop_words2 = stopwords.words('indonesian')\n",
    "    stop_words.extend(stop_words2)\n",
    "    jmlData = contents.shape \n",
    "    for i in range(jmlData[0]):\n",
    "        word_tokens = word_tokenize(contents[i])\n",
    "        # print(word_tokens)\n",
    "            \n",
    "        word_tokens_no_stopwords = [w for w in word_tokens if not w in stop_words]\n",
    "\n",
    "        special_char = \"+=`@_!#$%^&*()<>?/\\|}{~:;.[],1234567890‘’'\" + '\"“”●'\n",
    "        out_list = [''.join(x for x in string if not x in special_char) for string in word_tokens_no_stopwords]\n",
    "        # print('List after removal of special characters:', out_list)\n",
    "\n",
    "        while '' in out_list:\n",
    "            out_list.remove('')\n",
    "        data_kata.append(out_list)\n",
    "    return data_kata"
   ]
  },
  {
   "cell_type": "code",
   "execution_count": 7,
   "id": "d3de7600",
   "metadata": {},
   "outputs": [],
   "source": [
    "stop_kata = stopping_word(df['abstrak_baru'])\n",
    "df['stop_kata'] = stop_kata"
   ]
  },
  {
   "cell_type": "code",
   "execution_count": 8,
   "id": "7f03a67a",
   "metadata": {},
   "outputs": [
    {
     "data": {
      "text/plain": [
       "0     [perkembangan, game, pesat, alternative, pemin...\n",
       "1     [sistem, pengenalan, wajah, sistem, mengenali,...\n",
       "2     [sidik, jari, salah, karakteristik, fisik, man...\n",
       "3     [teknologi, biometrik, mengalami, perkembangan...\n",
       "4     [perusahaan, memiliki, data, berkaitan, kegiat...\n",
       "5     [penggunaan, teknologi, mobile, marak, disampi...\n",
       "6     [pengenalan, tulisan, tangan, topik, penelitia...\n",
       "7     [citra, senyum, salah, fitur, biometrik, dijad...\n",
       "8     [kantor, badan, kepegawaian, kota, bangkalan, ...\n",
       "9     [perusahaan, pemerintah, swasta, tujuan, dicap...\n",
       "10    [penyusunan, sistem, pendukung, keputusan, pem...\n",
       "11    [penelitian, membahas, perancangan, sistem, in...\n",
       "12    [deteksi, manusia, aplikasi, berfungsi, mendet...\n",
       "13    [prediksi, rencana, kerja, perusahaan, efektif...\n",
       "14    [permintaan, straw, sperma, beku, sapi, mengha...\n",
       "15    [obat, salah, kebutuhan, rumah, sakit, kebutuh...\n",
       "16    [seiring, perubahan, paradigma, pembangunan, e...\n",
       "17    [kabupaten, bangkalan, memiliki, lahan, pertan...\n",
       "18    [pengenalan, tulisan, tangan, salah, cabang, p...\n",
       "19    [perkembangan, teknologi, informasi, dekade, p...\n",
       "20    [persaingan, produk, unggulan, daerah, ketat, ...\n",
       "21    [bahasa, madura, salah, bahasa, daerah, indone...\n",
       "22    [komunikasi, kehidupan, bermasyarakat, orang, ...\n",
       "23    [layanan, akademik, usaha, perguruan, kemudaha...\n",
       "24    [sesuai, peraturan, ditentukan, pemberi, beasi...\n",
       "25    [media, pembelajaran, salah, solusi, mempermud...\n",
       "26    [jalan, raya, prasarana, transportasi, vital, ...\n",
       "27    [optical, font, recognition, ofr, teknik, anal...\n",
       "28    [dinas, kebudayaan, pariwisata, provinsi, jawa...\n",
       "29    [pengenalan, obyek, penelitian, menggabungkan,...\n",
       "30    [pengenalan, wajah, berkembang, perkembangan, ...\n",
       "31    [pengenalan, suara, gagasan, teknologi, bertuj...\n",
       "32    [penelitian, citra, sidik, jari, pendeteksian,...\n",
       "33    [pengenalan, wajah, salah, teknologi, biometri...\n",
       "34    [game, bahasa, inggris, permainan, pertandinga...\n",
       "35    [sistem, pengenalan, karakter, plat, nomor, ke...\n",
       "36    [bahasa, madura, bahasa, lokal, tradisional, w...\n",
       "37    [prediksi, ketepatan, kelulusan, mahasiswa, ju...\n",
       "38    [pengenalan, pola, tulisan, tangan, teknik, di...\n",
       "39    [perkembangan, teknologi, informasi, komunikas...\n",
       "40    [pesatnya, perkembangan, teknologi, berpengaru...\n",
       "41    [sosialisasi, uu, nomor, kompleksitas, banyakn...\n",
       "42    [sistem, pengenalan, sidik, jari, bertujuan, m...\n",
       "43    [pemilihan, rektor, agenda, rutin, dilaksanaka...\n",
       "44    [teknik, data, mining, menggali, informasi, me...\n",
       "45    [permasalahan, machine, learning, pattern, rec...\n",
       "46    [pendeteksian, plagiarisme, mendeteksi, plagia...\n",
       "47    [teknologi, pendeteksian, obyek, kamera, siste...\n",
       "48    [era, teknologi, informasi, mejadi, disalah, s...\n",
       "49    [perkembangan, mobile, phone, akhirakhir, meni...\n",
       "Name: stop_kata, dtype: object"
      ]
     },
     "execution_count": 8,
     "metadata": {},
     "output_type": "execute_result"
    }
   ],
   "source": [
    "df['stop_kata']"
   ]
  },
  {
   "cell_type": "markdown",
   "id": "5cc0a9e4",
   "metadata": {},
   "source": [
    "## Ekstraksi Fitur "
   ]
  },
  {
   "cell_type": "markdown",
   "id": "c791df11",
   "metadata": {},
   "source": [
    "Ekstraksi fitur merupakan proses untuk mencari nilai-nilai fitur yang terkandung dalam dokumen. Ekstraksi fitur menjadi bagian yang sangat penting dalam pengolahan dokumen pada mesin pencari karena sangat menentukan keberhasilan proses text mining. Salah satu metode ekstraksi fitur yang banyak digunakan dan populer adalah TF-IDF."
   ]
  },
  {
   "cell_type": "markdown",
   "id": "a64aea17",
   "metadata": {},
   "source": [
    "### TF-IDF "
   ]
  },
  {
   "cell_type": "markdown",
   "id": "d868b03f",
   "metadata": {},
   "source": [
    "Term Frequency Inverse Document Frequency (TF-IDF) adalah algoritma pembobotan dokomen . \n",
    "Term frequency (TF) adalah rasio dari jumlah kemunculan kata dalam dokumen.\n",
    "IDF adalah kemunculan kata terhadap keseluruhan dokumen dalam database.\n",
    "TF-IDF adalah ukuran yang dinormalisasi yang mempertimbangkan panjang dokumen.\n",
    "\n",
    "$$\n",
    "\\begin{aligned}\n",
    "&W=T F(I D F+1) \\\\\n",
    "&I D F=\\log D / d f\n",
    "\\end{aligned}\n",
    "$$"
   ]
  },
  {
   "cell_type": "markdown",
   "id": "b674f277",
   "metadata": {},
   "source": [
    "Keterangan:\n",
    "\n",
    "TF : Frekuensi kemunculan kata pada setiap dokumen\n",
    "\n",
    "D: Jumlah dokumen\n",
    "\n",
    "df: Jumlah dokumen yang mengandung sebuah term\n",
    "\n",
    "IDF:Hasil log dari jumlah dokumen keseluruhan dibagi dengan jumlah dokumen yang mengandung sebuah term\n",
    "\n",
    "W: Bobot frekuensi sebuah term pada sebuah dokumen"
   ]
  },
  {
   "cell_type": "code",
   "execution_count": 9,
   "id": "2c9c805a",
   "metadata": {},
   "outputs": [],
   "source": [
    "import nltk\n",
    "from sklearn.feature_extraction.text import TfidfVectorizer,CountVectorizer\n",
    "from nltk.corpus import stopwords\n",
    "#stop_words=set(nltk.corpus.stopwords.words('english', 'indonesian'))\n",
    "stop_words = set(nltk.corpus.stopwords.words('indonesian'))\n",
    "\n",
    "vect =TfidfVectorizer(stop_words=stop_words,max_features=1000) # to play with. min_df,max_df,max_features etc..."
   ]
  },
  {
   "cell_type": "code",
   "execution_count": 10,
   "id": "aaa0f7bb",
   "metadata": {},
   "outputs": [],
   "source": [
    "#print(stop_words)"
   ]
  },
  {
   "cell_type": "code",
   "execution_count": 11,
   "id": "7dc1eb23",
   "metadata": {},
   "outputs": [
    {
     "name": "stderr",
     "output_type": "stream",
     "text": [
      "c:\\users\\hp\\appdata\\local\\programs\\python\\python39\\lib\\site-packages\\sklearn\\feature_extraction\\text.py:396: UserWarning: Your stop_words may be inconsistent with your preprocessing. Tokenizing the stop words generated tokens ['baiknya', 'berkali', 'kali', 'kurangnya', 'mata', 'olah', 'sekurang', 'setidak', 'tama', 'tidaknya'] not in stop_words.\n",
      "  warnings.warn(\n"
     ]
    }
   ],
   "source": [
    "vect_text=vect.fit_transform(df['abstrak_baru'])"
   ]
  },
  {
   "cell_type": "code",
   "execution_count": 12,
   "id": "55727a49",
   "metadata": {},
   "outputs": [
    {
     "name": "stdout",
     "output_type": "stream",
     "text": [
      "(50, 1000)\n",
      "  (0, 342)\t0.050046049272069265\n",
      "  (0, 425)\t0.03252518547195344\n",
      "  (0, 497)\t0.050046049272069265\n",
      "  (0, 223)\t0.09459937801730396\n",
      "  (0, 452)\t0.01835089192587854\n",
      "  (0, 283)\t0.2553935645379119\n",
      "  (0, 610)\t0.1915451734034339\n",
      "  (0, 515)\t0.05340732258030312\n",
      "  (0, 505)\t0.05340732258030312\n",
      "  (0, 955)\t0.12769678226895595\n",
      "  (0, 136)\t0.08238411087400166\n",
      "  (0, 741)\t0.4619260605026146\n",
      "  (0, 311)\t0.2553935645379119\n",
      "  (0, 688)\t0.12769678226895595\n",
      "  (0, 32)\t0.058327824327439166\n",
      "  (0, 38)\t0.05340732258030312\n",
      "  (0, 572)\t0.028428972365723202\n",
      "  (0, 742)\t0.050046049272069265\n",
      "  (0, 524)\t0.06384839113447797\n",
      "  (0, 50)\t0.12769678226895595\n",
      "  (0, 20)\t0.050046049272069265\n",
      "  (0, 290)\t0.057740757562826824\n",
      "  (0, 898)\t0.06384839113447797\n",
      "  (0, 368)\t0.2364984450432599\n",
      "  (0, 120)\t0.04729968900865198\n",
      "  :\t:\n",
      "  (49, 414)\t0.11532898572335334\n",
      "  (49, 337)\t0.12468670367450325\n",
      "  (49, 737)\t0.10888606760497987\n",
      "  (49, 12)\t0.061390168795042596\n",
      "  (49, 326)\t0.07959334238830826\n",
      "  (49, 906)\t0.09278230508025587\n",
      "  (49, 106)\t0.05444303380248994\n",
      "  (49, 945)\t0.05444303380248994\n",
      "  (49, 929)\t0.08895106033945815\n",
      "  (49, 122)\t0.11143760909245216\n",
      "  (49, 606)\t0.10214002303140576\n",
      "  (49, 549)\t0.19488665982417422\n",
      "  (49, 288)\t0.1080705757778872\n",
      "  (49, 684)\t0.04768894379406087\n",
      "  (49, 102)\t0.1365272553746981\n",
      "  (49, 80)\t0.2783469152407676\n",
      "  (49, 875)\t0.06826362768734905\n",
      "  (49, 377)\t0.08552389513478972\n",
      "  (49, 433)\t0.1080705757778872\n",
      "  (49, 980)\t0.1779021206789163\n",
      "  (49, 796)\t0.08086106769718945\n",
      "  (49, 452)\t0.11888199879791285\n",
      "  (49, 136)\t0.08895106033945815\n",
      "  (49, 572)\t0.061390168795042596\n",
      "  (49, 625)\t0.16484729419499874\n"
     ]
    }
   ],
   "source": [
    "print(vect_text.shape)\n",
    "print(vect_text)"
   ]
  },
  {
   "cell_type": "code",
   "execution_count": 13,
   "id": "c006b5ff",
   "metadata": {},
   "outputs": [],
   "source": [
    "idf=vect.idf_\n",
    "nilaiidf = [idf]"
   ]
  },
  {
   "cell_type": "code",
   "execution_count": 14,
   "id": "82ae9a62",
   "metadata": {},
   "outputs": [
    {
     "name": "stdout",
     "output_type": "stream",
     "text": [
      "metode œzâ\n",
      "{'abjad': 4.238678452164381, 'acuan': 4.238678452164381, 'adaptive': 4.238678452164381, 'adm': 4.238678452164381, 'admin': 3.833213344056216, 'administrasi': 3.833213344056216, 'air': 4.238678452164381, 'akademik': 3.833213344056216, 'akibat': 3.833213344056216, 'aksara': 4.238678452164381, 'aktif': 3.833213344056216, 'aktivitas': 3.833213344056216, 'akurasi': 1.8873031950009027, 'akurat': 3.545531271604435, 'alat': 3.545531271604435, 'alert': 4.238678452164381, 'alfabet': 3.833213344056216, 'algoritma': 2.85238409104449, 'alphabet': 4.238678452164381, 'alternatif': 3.545531271604435, 'anak': 3.322387720290225, 'anakanak': 3.833213344056216, 'analisa': 3.322387720290225, 'analysis': 2.9859154836690127, 'analytic': 3.545531271604435, 'and': 3.833213344056216, 'android': 3.322387720290225, 'angin': 4.238678452164381, 'angka': 3.833213344056216, 'angkaangka': 4.238678452164381, 'angular': 4.238678452164381, 'api': 3.833213344056216, 'aplikasi': 1.9360933591703349, 'application': 3.833213344056216, 'arah': 3.322387720290225, 'architecture': 4.238678452164381, 'arsitektur': 3.833213344056216, 'asesoris': 4.238678452164381, 'asli': 3.545531271604435, 'aspek': 3.545531271604435, 'atribut': 3.322387720290225, 'attribute': 3.833213344056216, 'autentik': 3.833213344056216, 'background': 3.833213344056216, 'backpropagation': 4.238678452164381, 'badan': 3.833213344056216, 'bahan': 3.545531271604435, 'bahasa': 2.9859154836690127, 'baku': 3.833213344056216, 'bangkalan': 3.545531271604435, 'bangsa': 4.238678452164381, 'banyaknya': 3.833213344056216, 'barang': 3.833213344056216, 'base': 4.238678452164381, 'basis': 3.545531271604435, 'bayes': 3.833213344056216, 'beasiswa': 4.238678452164381, 'belajar': 3.545531271604435, 'bentuk': 2.734601055388106, 'berasal': 3.833213344056216, 'berbasis': 2.6292405397302803, 'berbeda': 3.322387720290225, 'berdasarkan': 2.2237754316221157, 'berfokus': 3.833213344056216, 'berfungsi': 3.545531271604435, 'bergerak': 3.833213344056216, 'berhak': 3.833213344056216, 'berjalan': 3.833213344056216, 'berkaitan': 3.833213344056216, 'berkembang': 3.545531271604435, 'berkesesuaian': 4.238678452164381, 'bern': 4.238678452164381, 'bernilai': 4.238678452164381, 'berpengaruh': 3.545531271604435, 'berperan': 3.833213344056216, 'bersifat': 3.833213344056216, 'bertujuan': 3.1400661634962708, 'berubah': 3.833213344056216, 'besarnya': 3.833213344056216, 'biaya': 3.545531271604435, 'bidang': 2.85238409104449, 'bifurcation': 4.238678452164381, 'binary': 3.833213344056216, 'binaryzation': 4.238678452164381, 'biner': 3.833213344056216, 'biometric': 3.545531271604435, 'biometrik': 3.545531271604435, 'biometrika': 3.833213344056216, 'bisnis': 3.545531271604435, 'bkd': 4.238678452164381, 'bobot': 3.545531271604435, 'bpms': 4.238678452164381, 'browser': 4.238678452164381, 'buatan': 4.238678452164381, 'budaya': 4.238678452164381, 'bukti': 3.833213344056216, 'canberra': 3.833213344056216, 'carakan': 3.545531271604435, 'cepat': 3.1400661634962708, 'chain': 4.238678452164381, 'cipherteks': 4.238678452164381, 'ciri': 3.322387720290225, 'citra': 2.09861228866811, 'classifier': 3.545531271604435, 'cluster': 4.238678452164381, 'clustering': 4.238678452164381, 'coba': 1.6737290947028436, 'cocok': 3.833213344056216, 'code': 4.238678452164381, 'coefficient': 4.238678452164381, 'component': 3.322387720290225, 'computer': 3.833213344056216, 'confidence': 4.238678452164381, 'construct': 4.238678452164381, 'corepoint': 4.238678452164381, 'correlation': 3.545531271604435, 'cosine': 3.833213344056216, 'criteria': 3.833213344056216, 'cross': 4.238678452164381, 'crossing': 4.238678452164381, 'daerah': 3.1400661634962708, 'dasar': 3.833213344056216, 'data': 1.7129498078561252, 'database': 3.1400661634962708, 'daya': 3.833213344056216, 'decision': 3.545531271604435, 'deployment': 4.238678452164381, 'desain': 3.833213344056216, 'detail': 3.833213344056216, 'deteksi': 2.9859154836690127, 'detik': 3.833213344056216, 'development': 3.833213344056216, 'diambil': 3.545531271604435, 'diartikan': 3.833213344056216, 'dibahas': 4.238678452164381, 'dibandingkan': 3.1400661634962708, 'dibangun': 2.734601055388106, 'dibentuk': 3.833213344056216, 'dibidang': 4.238678452164381, 'dibutuhkan': 2.85238409104449, 'dicapai': 3.545531271604435, 'didalam': 3.833213344056216, 'didapatkan': 2.4469189829363254, 'didasarkan': 3.545531271604435, 'digital': 4.238678452164381, 'dihadapi': 3.833213344056216, 'diharapkan': 3.833213344056216, 'dihasilkan': 4.238678452164381, 'dihitung': 3.545531271604435, 'diimplementasikan': 3.833213344056216, 'diinputkan': 3.833213344056216, 'dijadikan': 3.322387720290225, 'dikembangkan': 2.734601055388106, 'dikenali': 2.9859154836690127, 'dikombinasikan': 3.545531271604435, 'dilaksanakan': 3.833213344056216, 'dilanjutkan': 3.833213344056216, 'dilengkapi': 3.833213344056216, 'dimana': 2.85238409104449, 'dimanfaatkan': 3.545531271604435, 'dimensi': 3.545531271604435, 'dimensional': 3.833213344056216, 'dimiliki': 3.545531271604435, 'dinas': 3.322387720290225, 'diolah': 3.833213344056216, 'dipelajari': 4.238678452164381, 'diperoleh': 2.09861228866811, 'dipilih': 3.322387720290225, 'diproses': 3.322387720290225, 'dirancang': 3.833213344056216, 'direction': 3.833213344056216, 'discriminant': 4.238678452164381, 'disebabkan': 3.545531271604435, 'disimpan': 3.545531271604435, 'disimpulkan': 3.833213344056216, 'distance': 2.734601055388106, 'distorsi': 4.238678452164381, 'diteliti': 3.833213344056216, 'ditemukan': 3.833213344056216, 'ditentukan': 3.545531271604435, 'diterapkan': 3.322387720290225, 'ditetapkan': 3.833213344056216, 'ditulis': 3.833213344056216, 'diuji': 3.833213344056216, 'dokumen': 3.322387720290225, 'dunia': 3.833213344056216, 'economic': 4.238678452164381, 'edm': 4.238678452164381, 'efektif': 2.9859154836690127, 'efisien': 2.85238409104449, 'efisiensi': 3.833213344056216, 'egovernment': 4.238678452164381, 'eksperimen': 4.238678452164381, 'ekspresi': 3.833213344056216, 'ekstraksi': 2.366876275262789, 'elearning': 4.238678452164381, 'elektronik': 3.833213344056216, 'engine': 3.545531271604435, 'enterprise': 4.238678452164381, 'eoq': 4.238678452164381, 'epoch': 4.238678452164381, 'equalization': 4.238678452164381, 'error': 3.833213344056216, 'euclidean': 2.9859154836690127, 'evaluasi': 3.833213344056216, 'evoting': 4.238678452164381, 'exponential': 3.833213344056216, 'face': 3.545531271604435, 'fahp': 3.545531271604435, 'faktor': 3.322387720290225, 'fanp': 4.238678452164381, 'fast': 4.238678452164381, 'feature': 3.545531271604435, 'filter': 3.833213344056216, 'filtering': 4.238678452164381, 'fingerprint': 4.238678452164381, 'fisik': 3.833213344056216, 'fitur': 2.2237754316221157, 'font': 4.238678452164381, 'fourier': 4.238678452164381, 'frequent': 4.238678452164381, 'function': 3.833213344056216, 'fungsi': 3.322387720290225, 'fuzzy': 3.1400661634962708, 'gain': 4.238678452164381, 'gambar': 3.545531271604435, 'game': 3.833213344056216, 'garis': 3.833213344056216, 'geometry': 4.238678452164381, 'global': 4.238678452164381, 'google': 3.545531271604435, 'gram': 4.238678452164381, 'guru': 3.833213344056216, 'ha': 4.238678452164381, 'haar': 4.238678452164381, 'handal': 3.833213344056216, 'handphone': 3.833213344056216, 'hasil': 1.376477571234912, 'hierarchy': 3.545531271604435, 'histogram': 3.833213344056216, 'hog': 4.238678452164381, 'html': 4.238678452164381, 'hubungan': 3.322387720290225, 'huruf': 2.85238409104449, 'identifikasi': 3.545531271604435, 'identitas': 3.322387720290225, 'ieee': 4.238678452164381, 'ilmiah': 3.833213344056216, 'implementasi': 3.833213344056216, 'implementasinya': 3.833213344056216, 'index': 4.238678452164381, 'indonesia': 3.322387720290225, 'industri': 4.238678452164381, 'informasi': 2.366876275262789, 'informatika': 3.833213344056216, 'information': 3.833213344056216, 'inggris': 3.833213344056216, 'instansi': 3.833213344056216, 'interaksi': 3.833213344056216, 'interaktif': 3.833213344056216, 'interface': 3.833213344056216, 'internet': 3.833213344056216, 'ips': 4.238678452164381, 'iptables': 4.238678452164381, 'ir': 4.238678452164381, 'item': 4.238678452164381, 'itemset': 4.238678452164381, 'jabatan': 4.238678452164381, 'jalan': 3.833213344056216, 'jaman': 4.238678452164381, 'jarak': 3.545531271604435, 'jari': 3.322387720290225, 'jaringan': 3.833213344056216, 'java': 3.833213344056216, 'jawa': 4.238678452164381, 'jenis': 3.1400661634962708, 'kabupaten': 3.322387720290225, 'kali': 3.833213344056216, 'kalimat': 4.238678452164381, 'kantor': 4.238678452164381, 'kapital': 4.238678452164381, 'karakter': 3.322387720290225, 'karakteristik': 2.9859154836690127, 'karapan': 4.238678452164381, 'karya': 3.833213344056216, 'karyawan': 4.238678452164381, 'kasat': 3.833213344056216, 'keakuratan': 3.545531271604435, 'keamanan': 3.322387720290225, 'keberhasilan': 3.833213344056216, 'kebudayaan': 3.833213344056216, 'kebutuhan': 2.734601055388106, 'kecamatan': 3.833213344056216, 'kecepatan': 3.833213344056216, 'kecuali': 3.833213344056216, 'kecurangan': 3.833213344056216, 'kedekatan': 3.545531271604435, 'kegiatan': 3.833213344056216, 'kehidupan': 3.833213344056216, 'kelas': 3.1400661634962708, 'kelebihan': 3.833213344056216, 'kelulusan': 4.238678452164381, 'kemajuan': 3.833213344056216, 'kemampuan': 3.1400661634962708, 'kemiripan': 3.1400661634962708, 'kemiskinan': 4.238678452164381, 'kendala': 3.833213344056216, 'kendaraan': 4.238678452164381, 'kepegawaian': 4.238678452164381, 'kepercayaan': 4.238678452164381, 'keputusan': 3.1400661634962708, 'kerapan': 4.238678452164381, 'kering': 3.833213344056216, 'kerja': 3.1400661634962708, 'kesalahan': 3.322387720290225, 'kesamaan': 3.833213344056216, 'kesesuaian': 3.833213344056216, 'kesulitan': 3.833213344056216, 'ketepatan': 3.833213344056216, 'ketiga': 3.833213344056216, 'keunikan': 3.833213344056216, 'keuntungan': 3.833213344056216, 'key': 4.238678452164381, 'keypoint': 4.238678452164381, 'khusus': 3.545531271604435, 'kinerja': 3.545531271604435, 'klasifikasi': 2.4469189829363254, 'kmeans': 4.238678452164381, 'knearest': 4.238678452164381, 'kombinasi': 3.833213344056216, 'kompleks': 3.545531271604435, 'komputer': 2.85238409104449, 'komunikasi': 3.1400661634962708, 'kondisi': 4.238678452164381, 'konsep': 3.833213344056216, 'kpca': 4.238678452164381, 'kreatif': 4.238678452164381, 'kriminal': 3.833213344056216, 'kriteria': 2.734601055388106, 'kriteriakriteria': 3.833213344056216, 'kualitas': 3.833213344056216, 'kuliah': 4.238678452164381, 'kunci': 3.322387720290225, 'lahan': 4.238678452164381, 'lainlain': 3.833213344056216, 'lakukan': 4.238678452164381, 'langkah': 3.833213344056216, 'langsung': 3.833213344056216, 'lantai': 4.238678452164381, 'latent': 4.238678452164381, 'layak': 3.833213344056216, 'layanan': 3.545531271604435, 'lazim': 3.833213344056216, 'lbp': 3.833213344056216, 'lda': 4.238678452164381, 'learning': 3.322387720290225, 'least': 4.238678452164381, 'letak': 3.833213344056216, 'linear': 3.833213344056216, 'lingkungan': 3.833213344056216, 'local': 3.833213344056216, 'lokal': 3.833213344056216, 'lokasi': 4.238678452164381, 'ltsa': 4.238678452164381, 'luas': 3.545531271604435, 'lunak': 3.545531271604435, 'lvq': 4.238678452164381, 'machine': 4.238678452164381, 'madura': 3.1400661634962708, 'mahalanobis': 4.238678452164381, 'mahasiswa': 3.545531271604435, 'maju': 3.833213344056216, 'making': 3.833213344056216, 'maksimal': 3.833213344056216, 'maksimum': 4.238678452164381, 'manhattan': 3.833213344056216, 'manual': 3.322387720290225, 'manusia': 2.6292405397302803, 'mape': 3.545531271604435, 'maps': 3.833213344056216, 'marak': 3.833213344056216, 'masingmasing': 3.1400661634962708, 'masukan': 3.545531271604435, 'masyarakat': 2.85238409104449, 'mata': 3.1400661634962708, 'matching': 3.833213344056216, 'matematika': 3.833213344056216, 'materi': 4.238678452164381, 'matrik': 4.238678452164381, 'matriks': 3.833213344056216, 'matrix': 3.545531271604435, 'maya': 4.238678452164381, 'mcdm': 3.833213344056216, 'mdf': 4.238678452164381, 'mean': 3.545531271604435, 'media': 2.85238409104449, 'mediamedia': 4.238678452164381, 'median': 4.238678452164381, 'memanfaatkan': 3.833213344056216, 'membahas': 3.322387720290225, 'membandingkan': 3.545531271604435, 'membangun': 3.833213344056216, 'membantu': 2.5339303599259555, 'membutuhkan': 3.833213344056216, 'memecahkan': 3.545531271604435, 'memenuhi': 3.1400661634962708, 'memilih': 4.238678452164381, 'memiliki': 2.09861228866811, 'meminimalisir': 3.833213344056216, 'mempelajari': 3.545531271604435, 'mempercepat': 3.833213344056216, 'memperoleh': 3.1400661634962708, 'memprediksi': 3.545531271604435, 'memudahkan': 3.545531271604435, 'menangani': 3.545531271604435, 'menarik': 3.833213344056216, 'mencapai': 2.9859154836690127, 'mencari': 3.322387720290225, 'mencoba': 3.833213344056216, 'mendekati': 3.833213344056216, 'mendekripsi': 4.238678452164381, 'mendesain': 4.238678452164381, 'mendeteksi': 3.545531271604435, 'mendukung': 3.833213344056216, 'menempuh': 3.833213344056216, 'menentukan': 2.1592369104845446, 'menerima': 3.833213344056216, 'menerjemahkan': 4.238678452164381, 'mengakibatkan': 3.833213344056216, 'mengalami': 3.833213344056216, 'menganalisa': 3.833213344056216, 'mengandung': 3.833213344056216, 'mengenal': 3.833213344056216, 'mengenali': 3.322387720290225, 'mengenkripsi': 4.238678452164381, 'menghasilkan': 2.4469189829363254, 'menghilangkan': 3.833213344056216, 'mengidentifikasi': 3.545531271604435, 'mengimplementasikan': 3.833213344056216, 'mengirimkan': 4.238678452164381, 'menguji': 3.833213344056216, 'mengurangi': 3.833213344056216, 'meningkat': 3.833213344056216, 'meningkatkan': 2.85238409104449, 'menjaga': 3.833213344056216, 'menunjang': 3.833213344056216, 'menyebabkan': 3.833213344056216, 'menyeleksi': 3.545531271604435, 'menyelesaikan': 3.545531271604435, 'meramalkan': 3.833213344056216, 'mesin': 4.238678452164381, 'meter': 4.238678452164381, 'metode': 1.218253566020018, 'mg': 4.238678452164381, 'minat': 3.545531271604435, 'minimal': 3.545531271604435, 'minimum': 4.238678452164381, 'mining': 3.833213344056216, 'minsup': 4.238678452164381, 'minutiae': 4.238678452164381, 'mkp': 4.238678452164381, 'mobile': 3.545531271604435, 'model': 3.1400661634962708, 'modern': 4.238678452164381, 'modul': 4.238678452164381, 'mse': 3.545531271604435, 'mudah': 3.1400661634962708, 'multi': 3.545531271604435, 'multimedia': 3.833213344056216, 'multiple': 3.545531271604435, 'naive': 3.833213344056216, 'nama': 3.833213344056216, 'network': 3.833213344056216, 'nilai': 1.9360933591703349, 'noise': 3.833213344056216, 'nomor': 3.545531271604435, 'normalisasi': 3.833213344056216, 'number': 4.238678452164381, 'nya': 4.238678452164381, 'obat': 4.238678452164381, 'objek': 3.545531271604435, 'obyek': 3.1400661634962708, 'obyekobyek': 3.833213344056216, 'of': 3.545531271604435, 'ofr': 4.238678452164381, 'oldinary': 4.238678452164381, 'ols': 4.238678452164381, 'operasi': 3.322387720290225, 'optical': 3.833213344056216, 'optimal': 3.545531271604435, 'orang': 2.734601055388106, 'order': 4.238678452164381, 'ordered': 4.238678452164381, 'organ': 4.238678452164381, 'orl': 3.545531271604435, 'otomatis': 3.322387720290225, 'pamekasan': 3.833213344056216, 'parameter': 3.322387720290225, 'pariwisata': 4.238678452164381, 'partisi': 4.238678452164381, 'pattern': 3.322387720290225, 'pca': 3.322387720290225, 'pelajaran': 3.833213344056216, 'pelatihan': 2.734601055388106, 'pelayanan': 4.238678452164381, 'pelestarian': 3.545531271604435, 'pemahaman': 3.833213344056216, 'pemanfaatan': 3.322387720290225, 'pembagian': 4.238678452164381, 'pembangkitan': 4.238678452164381, 'pembangunan': 3.322387720290225, 'pembelajaran': 2.85238409104449, 'pembentuk': 4.238678452164381, 'pemberi': 4.238678452164381, 'pembobotan': 3.833213344056216, 'pembuatan': 3.545531271604435, 'pemenuhan': 4.238678452164381, 'pemerataan': 4.238678452164381, 'pemerintah': 3.833213344056216, 'pemerintahan': 3.833213344056216, 'pemetaan': 3.833213344056216, 'pemetaannya': 4.238678452164381, 'pemilih': 4.238678452164381, 'pemilihan': 3.322387720290225, 'peminat': 4.238678452164381, 'peminatnya': 4.238678452164381, 'pemodelan': 4.238678452164381, 'pemrograman': 3.833213344056216, 'pena': 4.238678452164381, 'penambahan': 4.238678452164381, 'penampilan': 4.238678452164381, 'penanggulangan': 4.238678452164381, 'penat': 4.238678452164381, 'pencapaian': 3.833213344056216, 'pencarian': 3.833213344056216, 'pencatatan': 4.238678452164381, 'pencegah': 4.238678452164381, 'pencirian': 4.238678452164381, 'pencocokan': 3.545531271604435, 'pencurian': 4.238678452164381, 'pendaftaran': 4.238678452164381, 'pendekatan': 3.545531271604435, 'penderita': 4.238678452164381, 'pendeteksi': 4.238678452164381, 'pendeteksian': 3.1400661634962708, 'pendidikan': 3.1400661634962708, 'penduduk': 4.238678452164381, 'pendukung': 2.85238409104449, 'peneliti': 3.833213344056216, 'penelitian': 1.4978384282391795, 'penelition': 4.238678452164381, 'penelitipeneliti': 4.238678452164381, 'penelusuran': 4.238678452164381, 'penentu': 4.238678452164381, 'penentuan': 3.1400661634962708, 'penentuannya': 4.238678452164381, 'penerangan': 4.238678452164381, 'penerapan': 3.322387720290225, 'penerima': 3.833213344056216, 'penerimaan': 3.833213344056216, 'penerjemah': 4.238678452164381, 'penetapan': 4.238678452164381, 'pengadaan': 4.238678452164381, 'pengajar': 4.238678452164381, 'pengajaran': 4.238678452164381, 'pengalaman': 4.238678452164381, 'pengambilan': 3.833213344056216, 'pengaruh': 4.238678452164381, 'pengawasan': 4.238678452164381, 'pengelolaan': 4.238678452164381, 'pengembang': 3.833213344056216, 'pengembangan': 3.322387720290225, 'pengenalan': 1.8873031950009027, 'pengentasan': 4.238678452164381, 'pengetahuan': 3.322387720290225, 'penggabungan': 4.238678452164381, 'pengguna': 2.85238409104449, 'penggunaan': 2.734601055388106, 'penggunanya': 4.238678452164381, 'penghitungan': 3.322387720290225, 'pengimplementasian': 4.238678452164381, 'pengirim': 4.238678452164381, 'pengiriman': 4.238678452164381, 'pengisian': 4.238678452164381, 'pengklasifikasian': 3.545531271604435, 'pengolahan': 4.238678452164381, 'pengucapan': 4.238678452164381, 'pengujian': 2.6292405397302803, 'pengukuran': 3.545531271604435, 'pengumpulan': 4.238678452164381, 'penilaian': 3.833213344056216, 'penjejakan': 4.238678452164381, 'penjiplakan': 4.238678452164381, 'penjualan': 4.238678452164381, 'penjualannya': 4.238678452164381, 'penulis': 3.833213344056216, 'penunjang': 4.238678452164381, 'penyajian': 4.238678452164381, 'penyampaian': 3.833213344056216, 'penyerang': 4.238678452164381, 'penyimpangan': 4.238678452164381, 'penyuluhan': 4.238678452164381, 'penyusunan': 4.238678452164381, 'penyusupan': 4.238678452164381, 'peramalan': 3.322387720290225, 'perancangan': 3.545531271604435, 'perangkat': 3.1400661634962708, 'perangkingan': 3.833213344056216, 'perangkingannya': 4.238678452164381, 'peraturan': 3.833213344056216, 'perawatan': 4.238678452164381, 'perbaikan': 4.238678452164381, 'perbandingan': 3.833213344056216, 'perbedaan': 3.545531271604435, 'percabangan': 4.238678452164381, 'percentage': 4.238678452164381, 'percobaan': 4.238678452164381, 'perencanaan': 3.833213344056216, 'performasi': 4.238678452164381, 'perguruan': 4.238678452164381, 'perhitungan': 3.1400661634962708, 'perhitungannya': 4.238678452164381, 'perikanan': 4.238678452164381, 'perilaku': 3.833213344056216, 'periode': 3.833213344056216, 'perkembangan': 2.5339303599259555, 'perkiraan': 4.238678452164381, 'perkiran': 4.238678452164381, 'permainan': 4.238678452164381, 'permasalahan': 3.545531271604435, 'permintaan': 3.833213344056216, 'persaingan': 4.238678452164381, 'persediaan': 3.833213344056216, 'pertanian': 4.238678452164381, 'perubahan': 3.833213344056216, 'perusahaan': 3.322387720290225, 'pesan': 3.545531271604435, 'pesat': 3.322387720290225, 'peta': 3.833213344056216, 'peternakan': 3.833213344056216, 'phaseonly': 4.238678452164381, 'phone': 3.833213344056216, 'php': 4.238678452164381, 'pihakpihak': 4.238678452164381, 'piksel': 3.322387720290225, 'pilihan': 3.545531271604435, 'pimpinan': 4.238678452164381, 'pixel': 4.238678452164381, 'pixelpixel': 4.238678452164381, 'plagiarisme': 3.833213344056216, 'plainteks': 4.238678452164381, 'plat': 4.238678452164381, 'platform': 4.238678452164381, 'pmg': 4.238678452164381, 'poc': 4.238678452164381, 'pohon': 4.238678452164381, 'point': 4.238678452164381, 'pola': 2.6292405397302803, 'pondasi': 4.238678452164381, 'popular': 4.238678452164381, 'populer': 4.238678452164381, 'pose': 3.545531271604435, 'posisi': 3.545531271604435, 'positif': 4.238678452164381, 'postif': 4.238678452164381, 'postpruning': 4.238678452164381, 'posttest': 4.238678452164381, 'pra': 4.238678452164381, 'prakandidat': 4.238678452164381, 'praktis': 4.238678452164381, 'prasarana': 4.238678452164381, 'prasyarat': 4.238678452164381, 'prediksi': 3.833213344056216, 'preprocessing': 3.833213344056216, 'presentase': 4.238678452164381, 'principal': 3.322387720290225, 'print': 3.833213344056216, 'prioritas': 3.545531271604435, 'process': 3.322387720290225, 'produk': 4.238678452164381, 'produksi': 4.238678452164381, 'program': 3.833213344056216, 'programming': 3.833213344056216, 'promosi': 4.238678452164381, 'proses': 1.4660897299245992, 'protokol': 4.238678452164381, 'proyek': 4.238678452164381, 'pt': 3.833213344056216, 'pulau': 4.238678452164381, 'qfd': 4.238678452164381, 'quality': 4.238678452164381, 'quantity': 4.238678452164381, 'quantization': 4.238678452164381, 'random': 3.833213344056216, 'rangka': 4.238678452164381, 'raskin': 4.238678452164381, 'ratarata': 2.734601055388106, 'rate': 4.238678452164381, 'raya': 4.238678452164381, 'real': 3.833213344056216, 'recognition': 2.85238409104449, 'region': 4.238678452164381, 'registrasi': 4.238678452164381, 'regular': 4.238678452164381, 'rekayasa': 4.238678452164381, 'rekomendasi': 4.238678452164381, 'rektor': 4.238678452164381, 'relatif': 3.833213344056216, 'release': 4.238678452164381, 'relevan': 4.238678452164381, 'rencana': 3.833213344056216, 'rendah': 4.238678452164381, 'resizing': 4.238678452164381, 'respon': 3.833213344056216, 'responden': 4.238678452164381, 'result': 4.238678452164381, 'retrieval': 4.238678452164381, 'retrievenya': 4.238678452164381, 'ridge': 4.238678452164381, 'riding': 4.238678452164381, 'riil': 4.238678452164381, 'rill': 4.238678452164381, 'riset': 4.238678452164381, 'roman': 4.238678452164381, 'rotasi': 4.238678452164381, 'ruang': 3.833213344056216, 'ruas': 4.238678452164381, 'rule': 3.545531271604435, 'rumah': 3.833213344056216, 'rumus': 4.238678452164381, 'rungu': 4.238678452164381, 'runtime': 4.238678452164381, 'rusak': 4.238678452164381, 'rutin': 4.238678452164381, 'sadari': 4.238678452164381, 'safety': 4.238678452164381, 'sakit': 3.833213344056216, 'salah': 1.6737290947028436, 'sampang': 4.238678452164381, 'sampel': 3.545531271604435, 'samporna': 4.238678452164381, 'sapi': 3.833213344056216, 'sarana': 3.322387720290225, 'sasaran': 4.238678452164381, 'satunya': 3.545531271604435, 'sawah': 4.238678452164381, 'scale': 4.238678452164381, 'scan': 4.238678452164381, 'scanner': 4.238678452164381, 'sdk': 3.833213344056216, 'security': 3.833213344056216, 'sederhana': 4.238678452164381, 'sedih': 4.238678452164381, 'segi': 3.833213344056216, 'segmentasi': 4.238678452164381, 'seharian': 4.238678452164381, 'seiring': 3.1400661634962708, 'sekolah': 4.238678452164381, 'selangkah': 4.238678452164381, 'self': 4.238678452164381, 'selisih': 4.238678452164381, 'seluas': 4.238678452164381, 'selular': 4.238678452164381, 'semantik': 4.238678452164381, 'sembilan': 4.238678452164381, 'semester': 4.238678452164381, 'semi': 4.238678452164381, 'sempurna': 4.238678452164381, 'sentuh': 4.238678452164381, 'senyum': 4.238678452164381, 'senyuman': 4.238678452164381, 'separation': 4.238678452164381, 'sepeda': 4.238678452164381, 'sepenuhnya': 4.238678452164381, 'sepuluh': 4.238678452164381, 'serangan': 4.238678452164381, 'seringkali': 4.238678452164381, 'server': 3.833213344056216, 'service': 3.833213344056216, 'ses': 4.238678452164381, 'sesuai': 2.2927683031090673, 'sibi': 4.238678452164381, 'sidik': 3.545531271604435, 'sifat': 4.238678452164381, 'sift': 4.238678452164381, 'signature': 4.238678452164381, 'sikannya': 4.238678452164381, 'sikap': 3.833213344056216, 'siknifikan': 4.238678452164381, 'similarity': 3.1400661634962708, 'similaritynya': 4.238678452164381, 'simple': 4.238678452164381, 'simulasi': 4.238678452164381, 'single': 3.545531271604435, 'singular': 4.238678452164381, 'sinyal': 4.238678452164381, 'sistem': 1.2429461786103895, 'sistematis': 4.238678452164381, 'sister': 4.238678452164381, 'siswa': 3.545531271604435, 'skala': 3.833213344056216, 'skema': 4.238678452164381, 'skenario': 2.5339303599259555, 'sky': 4.238678452164381, 'slamet': 4.238678452164381, 'smarter': 4.238678452164381, 'smartphone': 4.238678452164381, 'smoothing': 3.833213344056216, 'sms': 4.238678452164381, 'snort': 4.238678452164381, 'software': 3.833213344056216, 'solusi': 3.833213344056216, 'som': 4.238678452164381, 'sort': 4.238678452164381, 'sosialisasi': 4.238678452164381, 'source': 4.238678452164381, 'space': 3.833213344056216, 'spasial': 4.238678452164381, 'spectrum': 4.238678452164381, 'sperma': 4.238678452164381, 'spk': 4.238678452164381, 'sql': 4.238678452164381, 'square': 3.833213344056216, 'stabil': 4.238678452164381, 'stabilitas': 4.238678452164381, 'standar': 3.833213344056216, 'standards': 4.238678452164381, 'statistik': 3.833213344056216, 'stok': 4.238678452164381, 'strata': 4.238678452164381, 'strategi': 3.833213344056216, 'straw': 4.238678452164381, 'struktur': 4.238678452164381, 'studi': 3.545531271604435, 'style': 4.238678452164381, 'suara': 3.833213344056216, 'sub': 3.833213344056216, 'subkriteria': 4.238678452164381, 'subset': 4.238678452164381, 'subsistem': 4.238678452164381, 'subyektifnya': 4.238678452164381, 'subyektivitas': 4.238678452164381, 'sudut': 3.833213344056216, 'suka': 4.238678452164381, 'sulit': 3.833213344056216, 'sumber': 3.322387720290225, 'sumenep': 4.238678452164381, 'support': 4.238678452164381, 'surabaya': 4.238678452164381, 'survey': 4.238678452164381, 'surya': 4.238678452164381, 'susu': 4.238678452164381, 'svd': 4.238678452164381, 'swasta': 4.238678452164381, 'syaraf': 4.238678452164381, 'system': 3.545531271604435, 'tab': 4.238678452164381, 'tahap': 2.734601055388106, 'tahapan': 4.238678452164381, 'takut': 3.833213344056216, 'tampilan': 3.833213344056216, 'tanah': 4.238678452164381, 'tanaman': 4.238678452164381, 'tangan': 2.9859154836690127, 'tanggap': 4.238678452164381, 'tangguh': 4.238678452164381, 'target': 4.238678452164381, 'tata': 4.238678452164381, 'tatap': 4.238678452164381, 'taâ': 4.238678452164381, 'teachingâ': 4.238678452164381, 'technique': 3.833213344056216, 'tegal': 4.238678452164381, 'teknik': 2.6292405397302803, 'teknis': 4.238678452164381, 'teknologi': 2.09861228866811, 'teks': 3.833213344056216, 'tekstur': 4.238678452164381, 'telapak': 4.238678452164381, 'telekomunikasi': 4.238678452164381, 'telepon': 3.833213344056216, 'tenaga': 3.833213344056216, 'tentukan': 3.833213344056216, 'tepi': 3.833213344056216, 'terbagi': 4.238678452164381, 'terbaik': 2.6292405397302803, 'terbaru': 4.238678452164381, 'terbatas': 4.238678452164381, 'terbentuk': 3.545531271604435, 'terbesar': 3.833213344056216, 'terbuka': 4.238678452164381, 'terbukti': 3.833213344056216, 'terburuk': 3.833213344056216, 'terdeteksi': 4.238678452164381, 'terdeteksinya': 4.238678452164381, 'terdir': 4.238678452164381, 'terendah': 3.833213344056216, 'terhapus': 4.238678452164381, 'terhitung': 4.238678452164381, 'terkecil': 3.545531271604435, 'termination': 4.238678452164381, 'tersedia': 3.833213344056216, 'tertinggi': 3.322387720290225, 'tes': 3.833213344056216, 'tesseract': 4.238678452164381, 'test': 4.238678452164381, 'testing': 2.85238409104449, 'theory': 4.238678452164381, 'thinning': 4.238678452164381, 'threshold': 3.545531271604435, 'tiaptiap': 3.545531271604435, 'tidaknya': 4.238678452164381, 'tik': 4.238678452164381, 'time': 3.833213344056216, 'times': 4.238678452164381, 'timur': 4.238678452164381, 'tindak': 4.238678452164381, 'tindakan': 4.238678452164381, 'tingkat': 2.4469189829363254, 'tingkatan': 4.238678452164381, 'tinta': 4.238678452164381, 'tipe': 4.238678452164381, 'titik': 3.545531271604435, 'titiktitik': 4.238678452164381, 'tiutm': 4.238678452164381, 'toefl': 4.238678452164381, 'togaf': 4.238678452164381, 'tools': 3.833213344056216, 'tradisional': 3.833213344056216, 'training': 2.734601055388106, 'transform': 3.833213344056216, 'tree': 4.238678452164381, 'treshold': 3.833213344056216, 'trunojoyo': 3.322387720290225, 'tubuh': 3.833213344056216, 'tugas': 2.6292405397302803, 'tujuan': 2.9859154836690127, 'tujuannya': 4.238678452164381, 'tujuh': 4.238678452164381, 'tulis': 4.238678452164381, 'tulisan': 3.322387720290225, 'tuna': 4.238678452164381, 'tunggal': 4.238678452164381, 'tutorial': 4.238678452164381, 'two': 4.238678452164381, 'uji': 1.6737290947028436, 'ujian': 4.238678452164381, 'ujicoba': 3.833213344056216, 'ukuran': 3.833213344056216, 'unggul': 4.238678452164381, 'unggulan': 3.833213344056216, 'unik': 3.1400661634962708, 'universitas': 3.322387720290225, 'unreusability': 4.238678452164381, 'unsurunsur': 4.238678452164381, 'upaya': 4.238678452164381, 'usaha': 3.545531271604435, 'usahausaha': 4.238678452164381, 'user': 3.545531271604435, 'usia': 3.833213344056216, 'utama': 3.833213344056216, 'utamanya': 4.238678452164381, 'utility': 4.238678452164381, 'uu': 4.238678452164381, 'valid': 4.238678452164381, 'validasi': 4.238678452164381, 'validitas': 4.238678452164381, 'value': 4.238678452164381, 'variasi': 4.238678452164381, 'vector': 3.833213344056216, 'vektor': 3.833213344056216, 'verifiability': 4.238678452164381, 'verifikasi': 4.238678452164381, 'video': 4.238678452164381, 'viola': 4.238678452164381, 'vision': 3.833213344056216, 'visualisasi': 4.238678452164381, 'vital': 4.238678452164381, 'vote': 4.238678452164381, 'vsm': 4.238678452164381, 'wajah': 2.734601055388106, 'wajahface': 4.238678452164381, 'warga': 4.238678452164381, 'warisan': 4.238678452164381, 'warna': 4.238678452164381, 'web': 3.322387720290225, 'wicara': 4.238678452164381, 'wicaradengan': 4.238678452164381, 'wiener': 4.238678452164381, 'wilayah': 4.238678452164381, 'window': 4.238678452164381, 'windows': 3.833213344056216, 'winnowing': 4.238678452164381, 'wisata': 4.238678452164381, 'yale': 4.238678452164381, 'œaâ': 4.238678452164381, 'œcyber': 4.238678452164381, 'œdatabase': 4.238678452164381, 'œjâ': 4.238678452164381, 'œzâ': 4.238678452164381}\n"
     ]
    },
    {
     "name": "stderr",
     "output_type": "stream",
     "text": [
      "c:\\users\\hp\\appdata\\local\\programs\\python\\python39\\lib\\site-packages\\sklearn\\utils\\deprecation.py:87: FutureWarning: Function get_feature_names is deprecated; get_feature_names is deprecated in 1.0 and will be removed in 1.2. Please use get_feature_names_out instead.\n",
      "  warnings.warn(msg, category=FutureWarning)\n"
     ]
    }
   ],
   "source": [
    "dd=dict(zip(vect.get_feature_names(), idf))\n",
    "l=sorted(dd, key=(dd).get)\n",
    "#kata = [l]\n",
    "#print(l)\n",
    "print(l[0],l[-1])\n",
    "print(dd)\n",
    "#print(dd['metode'])"
   ]
  },
  {
   "cell_type": "code",
   "execution_count": 15,
   "id": "74250608",
   "metadata": {},
   "outputs": [
    {
     "data": {
      "image/png": "[encoded data removed]",
      "text/plain": [
       "<Figure size 432x288 with 1 Axes>"
      ]
     },
     "metadata": {
      "needs_background": "light"
     },
     "output_type": "display_data"
    }
   ],
   "source": [
    "import matplotlib.pyplot as plt\n",
    "fig = plt.figure()\n",
    "ax = fig.add_axes([0,0,1,1])\n",
    "kata = l\n",
    "Nilai = idf\n",
    "ax.plot(Nilai)\n",
    "plt.show()"
   ]
  },
  {
   "cell_type": "markdown",
   "id": "d8ba5b14",
   "metadata": {},
   "source": [
    "## Topic Modelling LSA "
   ]
  },
  {
   "cell_type": "markdown",
   "id": "77b0b8ec",
   "metadata": {},
   "source": [
    "Latent semantic analysis (LSA) adalah teknik dalam pemrosesan bahasa alami , khususnya semantik distribusional , menganalisis hubungan antara satu set dokumen dan istilah yang dikandungnya dengan menghasilkan satu set konsep yang terkait dengan dokumen dan istilah. \n",
    "langkah-langkah LSA sebagai berikut:\n",
    "1. Teks Preprocessing\n",
    "2. Term-document Matrix\n",
    "3. Singular Value Decomposition\n",
    "Singular Value Decomposition (SVD) adalah salah satu teknik reduksi dimensi yang bermanfaat untuk memperkecil nilai kompleksitas dalam pemrosesan term-document matrix. SVD merupakan teorema aljabar linier yang menyebutkan bahwa persegi panjang dari term-document matrix dapat dipecah/didekomposisikan menjadi tiga matriks, yaitu :\n",
    "– Matriks ortogonal U\n",
    "– Matriks diagonal S\n",
    "– Transpose dari matriks ortogonal V\n",
    "Yang dirumuskan dengan :\n",
    "\n",
    "$A_{m n}=U_{m m} x S_{m n} x V_{n n}^{T}$\n",
    "\n",
    "Keterangan:\n",
    "\n",
    "$$\\begin{array}{ll}\\mathrm{A}_{\\mathrm{mn}}= & \\text { matriks awal } \\\\ \\mathrm{U}_{\\mathrm{mm}}= & \\text { matriks ortogonal U } \\\\ \\mathrm{S}_{\\mathrm{mn}}= & \\text { matriks diagonal } \\mathrm{s} \\\\ \\mathrm{V}_{n \\pi}^{\\top}= & \\text { transpose matriks ortogonal } \\mathrm{V}\\end{array}$$\n",
    "\n",
    "Hasil dari proses SVD adalah vektor yang akan digunakan untuk menghitung similaritasnya dengan pendekatan cosine similarity.\n",
    "\n",
    "\n",
    "4.Cosine Similarity Measurement\n",
    "Cosine similarity digunakan untuk menghitung nilai kosinus sudut antara vektor dokumen dengan vektor kueri. Semakin kecil sudut yang dihasilkan, maka tingkat kemiripan esai semakin tinggi.\n",
    "Formula dari cosine similarity adalah sebagai berikut:\n",
    "\n",
    "$\\begin{equation}\n",
    "\\cos \\alpha=\\frac{\\boldsymbol{A} \\cdot \\boldsymbol{B}}{|\\boldsymbol{A}||\\boldsymbol{B}|}=\\frac{\\sum_{i=1}^{n} \\boldsymbol{A}_{i} X \\boldsymbol{B}_{i}}{\\sqrt{\\sum_{i=1}^{n}\\left(\\boldsymbol{A}_{i}\\right)^{2}} X \\sqrt{\\sum_{i=1}^{n}\\left(\\boldsymbol{B}_{i}\\right)^{2}}}\n",
    "\\end{equation}$\n",
    " \n",
    "Keterangan:\n",
    "\n",
    "A $\\quad=$ vektor dokumen\n",
    "\n",
    "B $\\quad=$ vektor kueri\n",
    "\n",
    "A $\\cdot \\mathbf{B}=$ perkalian $\\operatorname{dot}$ vektor $\\mathrm{A}$ dan vektor $\\mathrm{B}$\n",
    "\n",
    "$|\\mathrm{A}| \\quad=$ panjang vektor $\\mathrm{A}$\n",
    "\n",
    "$\\left.\\right|^{\\boldsymbol{B}} \\mid \\quad=$ panjang vektor $B$\n",
    "\n",
    "$\\mid \\boldsymbol{A}_{|| \\mathrm{B} \\mid}=$ cross product antara $|\\mathrm{A}|$ dan $|\\mathrm{B}|$\n",
    "\n",
    "\n",
    "Dari hasil cosine similarity, akan didapatkan nilai yang akan dibandingkan dengan penilaian manusia untuk diuji selisih nilainya."
   ]
  },
  {
   "cell_type": "code",
   "execution_count": 16,
   "id": "c173c162",
   "metadata": {},
   "outputs": [],
   "source": [
    "from sklearn.decomposition import TruncatedSVD\n",
    "lsa_model = TruncatedSVD(n_components=50, algorithm='randomized', n_iter=10, random_state=42)\n",
    "\n",
    "lsa_top=lsa_model.fit_transform(vect_text)"
   ]
  },
  {
   "cell_type": "code",
   "execution_count": 17,
   "id": "525d6b12",
   "metadata": {},
   "outputs": [
    {
     "name": "stdout",
     "output_type": "stream",
     "text": [
      "[[ 0.06882448  0.27245523 -0.00387394 ...  0.14532464  0.00134145\n",
      "   0.00661104]\n",
      " [ 0.56578288 -0.25181322 -0.24192285 ...  0.09406852  0.09104575\n",
      "   0.02513334]\n",
      " [ 0.2734554  -0.13616611  0.72362478 ... -0.01284269 -0.31929787\n",
      "   0.0739685 ]\n",
      " ...\n",
      " [ 0.54043373 -0.28470221 -0.18874866 ... -0.02306753  0.0146919\n",
      "  -0.09316259]\n",
      " [ 0.15848935  0.10863096  0.06272179 ...  0.01203472  0.03770214\n",
      "   0.01633764]\n",
      " [ 0.532259   -0.0269196  -0.14266228 ... -0.00155156 -0.00797086\n",
      "   0.0377059 ]]\n",
      "(50, 50)\n"
     ]
    }
   ],
   "source": [
    "print(lsa_top)\n",
    "print(lsa_top.shape)  # (no_of_doc*no_of_topics)"
   ]
  },
  {
   "cell_type": "code",
   "execution_count": 18,
   "id": "dc4fce21",
   "metadata": {},
   "outputs": [
    {
     "name": "stdout",
     "output_type": "stream",
     "text": [
      "Document 0 :\n",
      "Topic  0  :  6.882448356653467\n",
      "Topic  1  :  27.24552321029806\n",
      "Topic  2  :  -0.38739398904237504\n",
      "Topic  3  :  24.38173039473795\n",
      "Topic  4  :  1.8496010417855302\n",
      "Topic  5  :  14.060404487449501\n",
      "Topic  6  :  64.91171302028877\n",
      "Topic  7  :  12.589149754545993\n",
      "Topic  8  :  -12.156488745115082\n",
      "Topic  9  :  -35.43167579935794\n",
      "Topic  10  :  6.200957404255839\n",
      "Topic  11  :  -2.721771808514066\n",
      "Topic  12  :  -3.3518781141456317\n",
      "Topic  13  :  -2.766649136370064\n",
      "Topic  14  :  6.247612390914547\n",
      "Topic  15  :  -1.4616632405353294\n",
      "Topic  16  :  -0.8364506365120918\n",
      "Topic  17  :  0.18099297588821578\n",
      "Topic  18  :  0.6677569410536411\n",
      "Topic  19  :  -2.9036953440621716\n",
      "Topic  20  :  0.8525393554096086\n",
      "Topic  21  :  4.31850613751586\n",
      "Topic  22  :  -3.794730391180355\n",
      "Topic  23  :  -2.641639696343228\n",
      "Topic  24  :  -0.27325688435625023\n",
      "Topic  25  :  -0.7573868440355351\n",
      "Topic  26  :  2.178185992685262\n",
      "Topic  27  :  2.5221304613252062\n",
      "Topic  28  :  1.9349818406295256\n",
      "Topic  29  :  -0.839378807724718\n",
      "Topic  30  :  -0.3518936350162549\n",
      "Topic  31  :  -3.612764973428969\n",
      "Topic  32  :  -2.4162384477566867\n",
      "Topic  33  :  -2.5869455732705915\n",
      "Topic  34  :  -1.1177730444768263\n",
      "Topic  35  :  8.371127336689762\n",
      "Topic  36  :  -2.481542803617722\n",
      "Topic  37  :  -4.010871308479249\n",
      "Topic  38  :  5.314041528694658\n",
      "Topic  39  :  2.67061524059641\n",
      "Topic  40  :  0.43161085528775484\n",
      "Topic  41  :  -14.394740634345812\n",
      "Topic  42  :  6.799362720326655\n",
      "Topic  43  :  -3.0568649908214245\n",
      "Topic  44  :  -42.25423578083031\n",
      "Topic  45  :  -7.126502566320136\n",
      "Topic  46  :  -1.1909786506463018\n",
      "Topic  47  :  14.532464429928355\n",
      "Topic  48  :  0.13414506671538093\n",
      "Topic  49  :  0.6611037960780882\n"
     ]
    }
   ],
   "source": [
    "l=lsa_top[0]\n",
    "print(\"Document 0 :\")\n",
    "for i,topic in enumerate(l):\n",
    "  print(\"Topic \",i,\" : \",topic*100)"
   ]
  },
  {
   "cell_type": "code",
   "execution_count": 19,
   "id": "a51c6a1a",
   "metadata": {},
   "outputs": [
    {
     "data": {
      "image/png": "[encoded data removed]",
      "text/plain": [
       "<Figure size 432x288 with 1 Axes>"
      ]
     },
     "metadata": {
      "needs_background": "light"
     },
     "output_type": "display_data"
    }
   ],
   "source": [
    "import matplotlib.pyplot as plt\n",
    "fig = plt.figure()\n",
    "ax = fig.add_axes([0,0,3,3])\n",
    "Nilai = topic\n",
    "topic2 = l\n",
    "ax.plot(topic2)\n",
    "plt.show()"
   ]
  },
  {
   "cell_type": "code",
   "execution_count": 20,
   "id": "31e43b64",
   "metadata": {},
   "outputs": [
    {
     "name": "stdout",
     "output_type": "stream",
     "text": [
      "(50, 1000)\n",
      "[[ 0.02083154  0.00613697  0.01351605 ...  0.00548304  0.02083154\n",
      "   0.03124731]\n",
      " [ 0.00027003  0.00933731 -0.00565027 ... -0.0051317   0.00027003\n",
      "   0.00040504]\n",
      " [-0.00591647  0.00098918 -0.00082242 ...  0.03121209 -0.00591647\n",
      "  -0.0088747 ]\n",
      " ...\n",
      " [ 0.02481044  0.00279789 -0.00438256 ... -0.00236904  0.02481044\n",
      "   0.03721567]\n",
      " [ 0.00406422 -0.00223938  0.00771051 ... -0.07394541  0.00406422\n",
      "   0.00609632]\n",
      " [-0.01521117 -0.00326002  0.03188588 ...  0.021489   -0.01521117\n",
      "  -0.02281675]]\n"
     ]
    }
   ],
   "source": [
    "print(lsa_model.components_.shape) # (no_of_topics*no_of_words)\n",
    "print(lsa_model.components_)"
   ]
  },
  {
   "cell_type": "code",
   "execution_count": 21,
   "id": "3f840dfd",
   "metadata": {},
   "outputs": [
    {
     "name": "stderr",
     "output_type": "stream",
     "text": [
      "c:\\users\\hp\\appdata\\local\\programs\\python\\python39\\lib\\site-packages\\sklearn\\utils\\deprecation.py:87: FutureWarning: Function get_feature_names is deprecated; get_feature_names is deprecated in 1.0 and will be removed in 1.2. Please use get_feature_names_out instead.\n",
      "  warnings.warn(msg, category=FutureWarning)\n"
     ]
    },
    {
     "name": "stdout",
     "output_type": "stream",
     "text": [
      "Topic 0: \n",
      "citra wajah pengenalan data proses sistem metode tulisan tangan penelitian \n",
      "\n",
      "Topic 1: \n",
      "pembelajaran bahasa madura game siswa aplikasi teknologi pendidikan guru kriteria \n",
      "\n",
      "Topic 2: \n",
      "sidik jari minutiae corepoint otomatis skenario nilai ridge geometry lakukan \n",
      "\n",
      "Topic 3: \n",
      "pembelajaran bahasa game wajah madura sidik jari aplikasi siswa citra \n",
      "\n",
      "Topic 4: \n",
      "tulisan tangan huruf telapak pengenalan karakter carakan pola arah orang \n",
      "\n",
      "Topic 5: \n",
      "dokumen plagiarisme nilai similarity fingerprint gram index latent semantik svd \n",
      "\n",
      "Topic 6: \n",
      "game madura sapi budaya bahasa karapan kerapan html kriteria tulisan \n",
      "\n",
      "Topic 7: \n",
      "peramalan straw mse produksi error kebutuhan square single mape komputer \n",
      "\n",
      "Topic 8: \n",
      "bahasa rule madura data support teknik pohon mahasiswa prediksi keputusan \n",
      "\n",
      "Topic 9: \n",
      "bahasa madura siswa peramalan tangan produksi tulisan single dasar obyek \n",
      "\n",
      "Topic 10: \n",
      "bangkalan jalan pertanian kondisi lahan tanaman bahasa madura arsitektur togaf \n",
      "\n",
      "Topic 11: \n",
      "suara karakter citra filter akurasi perhitungan eksperimen plat evoting pengucapan \n",
      "\n",
      "Topic 12: \n",
      "rule support prediksi pohon mahasiswa pembelajaran karakter minsup citra terbentuk \n",
      "\n",
      "Topic 13: \n",
      "kebutuhan citra akademik lunak rekayasa perangkat obat bpms proses jalan \n",
      "\n",
      "Topic 14: \n",
      "sms pesan orang toefl android mobile teknologi ips penyusupan serangan \n",
      "\n",
      "Topic 15: \n",
      "suara evoting rektor manusia perhitungan jalan telapak pemilih proses pemilihan \n",
      "\n",
      "Topic 16: \n",
      "tuna komunikasi senyum perusahaan ips penyusupan serangan snort server jalan \n",
      "\n",
      "Topic 17: \n",
      "jalan kondisi presentase sosialisasi pemetaan masyarakat wajah media ir nya \n",
      "\n",
      "Topic 18: \n",
      "senyum pola pengenalan wajah ips penyusupan serangan snort obyek dikenali \n",
      "\n",
      "Topic 19: \n",
      "aksara edm beasiswa rule teknik toefl perusahaan mobile ofr support \n",
      "\n",
      "Topic 20: \n",
      "obat nilai beasiswa straw mape epoch sms memperoleh jalan kondisi \n",
      "\n",
      "Topic 21: \n",
      "beasiswa senyum akademik penerima sms bpms aksara menerima layanan edm \n",
      "\n",
      "Topic 22: \n",
      "kemiskinan smarter telapak keputusan rumah jenis senyum toefl ips penyusupan \n",
      "\n",
      "Topic 23: \n",
      "beasiswa karakter ips penyusupan serangan snort straw sistem menerima server \n",
      "\n",
      "Topic 24: \n",
      "presentase sosialisasi aksara obat edm kemiskinan ratarata ir nya vsm \n",
      "\n",
      "Topic 25: \n",
      "senyum straw telapak senyuman pca otomatis lda ordered filter karakter \n",
      "\n",
      "Topic 26: \n",
      "straw error permintaan suara akademik penentuan mse pengucapan sapi bpms \n",
      "\n",
      "Topic 27: \n",
      "sms pesan informasi pertanian pemilihan lahan tanaman cipherteks evoting jalan \n",
      "\n",
      "Topic 28: \n",
      "objek manusia chain code perhitungan huruf obat hog pengawasan video \n",
      "\n",
      "Topic 29: \n",
      "telapak obyek keypoint rekayasa lunak threshold orang perangkat proyek kebutuhan \n",
      "\n",
      "Topic 30: \n",
      "pertanian lahan tanaman produksi support presentase sosialisasi ha manusia rule \n",
      "\n",
      "Topic 31: \n",
      "straw telapak tuna pertanian unggulan lahan tanaman œzâ industri memilih \n",
      "\n",
      "Topic 32: \n",
      "toefl mobile tuna kemiskinan support penelitian android smarter akademik layanan \n",
      "\n",
      "Topic 33: \n",
      "prediksi pohon obat mahasiswa kelulusan tree toefl pertanian tulisan training \n",
      "\n",
      "Topic 34: \n",
      "skenario citra face pose tulisan phone minutiae bidang fingerprint gram \n",
      "\n",
      "Topic 35: \n",
      "komputer toefl teknologi tes internet industri memilih persaingan produk telapak \n",
      "\n",
      "Topic 36: \n",
      "telapak kapital mesin evoting minutiae perusahaan jabatan karyawan dikembangkan sub \n",
      "\n",
      "Topic 37: \n",
      "telapak chain code pose orl produksi algoritma face biner alphabet \n",
      "\n",
      "Topic 38: \n",
      "ekspresi tekstur telapak straw kemiripan produksi keypoint citra toefl senyum \n",
      "\n",
      "Topic 39: \n",
      "pariwisata wisata ekspresi jawa timur asesoris unggulan pose square terbaik \n",
      "\n",
      "Topic 40: \n",
      "minutiae keypoint obyek permasalahan basis orl skenario tuna bern kpca \n",
      "\n",
      "Topic 41: \n",
      "sesuai deployment quality pembelajaran function matriks interaktif asesoris guru kreatif \n",
      "\n",
      "Topic 42: \n",
      "minutiae ridge index latent semantik svd ekspresi mendeteksi matriks pendeteksian \n",
      "\n",
      "Topic 43: \n",
      "pose index latent semantik svd matriks citra orl dokumen dimensi \n",
      "\n",
      "Topic 44: \n",
      "html browser game siswa web construct permainan straw matematika engine \n",
      "\n",
      "Topic 45: \n",
      "manusia angular separation minutiae discriminant two identitas dimensional linear pose \n",
      "\n",
      "Topic 46: \n",
      "pendeteksian haar organ biometric senyum fitur tuna deteksi didalam penelition \n",
      "\n",
      "Topic 47: \n",
      "siswa dasar dipelajari elearning jaman modern modul samporna sekolah sapi \n",
      "\n",
      "Topic 48: \n",
      "citra distorsi sidik sudut jari pelatihan masukan senyum phaseonly poc \n",
      "\n",
      "Topic 49: \n",
      "tangan lvq mdf quantization minutiae penulis vector berbeda learning otomatis \n",
      "\n"
     ]
    }
   ],
   "source": [
    "# most important words for each topic\n",
    "vocab = vect.get_feature_names()\n",
    "\n",
    "for i, comp in enumerate(lsa_model.components_):\n",
    "    vocab_comp = zip(vocab, comp)\n",
    "    sorted_words = sorted(vocab_comp, key= lambda x:x[1], reverse=True)[:10]\n",
    "    print(\"Topic \"+str(i)+\": \")\n",
    "    for t in sorted_words:\n",
    "        print(t[0],end=\" \")\n",
    "    print(\"\\n\")"
   ]
  },
  {
   "cell_type": "markdown",
   "id": "28668c57",
   "metadata": {},
   "source": [
    "### Daftar Pustaka\n",
    "- Nawassyarif, Julkarnain M, K. R. A. (2020). 338108-sistem-informasi-pengolahan-data-ternak-30b9d1b3 ( Pengertian Sistem infomasi. Jurnal JINTEKS, 2(1), 32–39.\n",
    "- Hanifah, R., & Nurhasanah, I. S. (2018). Implementasi Web Crawling Untuk Mengumpulkan Web Crawling Implementation for Collecting. Jurnal Teknologi Informasi Dan Ilmu Komputer (JTIIK), 5(5), 531–536. https://doi.org/10.25126/jtiik20185842\n",
    "- https://docs.scrapy.org/en/latest/intro/tutorial.html\n",
    "- Setyohadi, D. B., Kristiawan, F. A., & Ernawati, E. (2017). Perbaikan Performansi Klasifikasi Dengan Preprocessing Iterative Partitioning Filter Algorithm. Telematika, 14(01), 12–20. https://doi.org/10.31315/telematika.v14i01.1960\n",
    "- Merinda Lestandy, Abdurrahim Abdurrahim, & Lailis Syafa’ah. (2021). Analisis Sentimen Tweet Vaksin COVID-19 Menggunakan Recurrent Neural Network dan Naïve Bayes. Jurnal RESTI (Rekayasa Sistem Dan Teknologi Informasi), 5(4), 802–808. https://doi.org/10.29207/resti.v5i4.3308\n",
    "- Prihatini, P. M. (2016). Implementasi Ekstraksi Fitur Pada Pengolahan Dokumen Berbahasa Indonesia. Jurnal Matrix, 6(3), 174–178.\n",
    "- https://socs.binus.ac.id/2015/08/03/penggunaan-latent-semantic-analysis-lsa-dalam-pemrosesan-teks/\n",
    "- https://www.kaggle.com/code/rajmehra03/topic-modelling-using-lda-and-lsa-in-sklearn/notebook"
   ]
  }
 ],
 "metadata": {
  "kernelspec": {
   "display_name": "Python 3 (ipykernel)",
   "language": "python",
   "name": "python3"
  },
  "language_info": {
   "codemirror_mode": {
    "name": "ipython",
    "version": 3
   },
   "file_extension": ".py",
   "mimetype": "text/x-python",
   "name": "python",
   "nbconvert_exporter": "python",
   "pygments_lexer": "ipython3",
   "version": "3.9.0"
  }
 },
 "nbformat": 4,
 "nbformat_minor": 5
}
