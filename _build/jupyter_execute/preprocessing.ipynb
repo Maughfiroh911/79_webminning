{
 "cells": [
  {
   "cell_type": "markdown",
   "id": "b1d2d3d0",
   "metadata": {},
   "source": [
    "## Preprocessing"
   ]
  },
  {
   "cell_type": "markdown",
   "id": "7faa8066",
   "metadata": {},
   "source": [
    "### Menggunakan 50 Data PTA, 25 Kategori RPL dan 25 Kategori CAI "
   ]
  },
  {
   "cell_type": "markdown",
   "id": "29150aae",
   "metadata": {},
   "source": [
    "#### Mengimport Library yang dibutuhkan "
   ]
  },
  {
   "cell_type": "code",
   "execution_count": 1,
   "id": "0ae0cb68",
   "metadata": {},
   "outputs": [
    {
     "name": "stderr",
     "output_type": "stream",
     "text": [
      "[nltk_data] Downloading collection 'popular'\n",
      "[nltk_data]    | \n",
      "[nltk_data]    | Downloading package cmudict to\n",
      "[nltk_data]    |     C:\\Users\\Hp\\AppData\\Roaming\\nltk_data...\n",
      "[nltk_data]    |   Package cmudict is already up-to-date!\n",
      "[nltk_data]    | Downloading package gazetteers to\n",
      "[nltk_data]    |     C:\\Users\\Hp\\AppData\\Roaming\\nltk_data...\n",
      "[nltk_data]    |   Package gazetteers is already up-to-date!"
     ]
    },
    {
     "name": "stderr",
     "output_type": "stream",
     "text": [
      "\n",
      "[nltk_data]    | Downloading package genesis to\n",
      "[nltk_data]    |     C:\\Users\\Hp\\AppData\\Roaming\\nltk_data...\n",
      "[nltk_data]    |   Package genesis is already up-to-date!\n",
      "[nltk_data]    | Downloading package gutenberg to\n",
      "[nltk_data]    |     C:\\Users\\Hp\\AppData\\Roaming\\nltk_data...\n"
     ]
    },
    {
     "name": "stderr",
     "output_type": "stream",
     "text": [
      "[nltk_data]    |   Package gutenberg is already up-to-date!\n",
      "[nltk_data]    | Downloading package inaugural to\n",
      "[nltk_data]    |     C:\\Users\\Hp\\AppData\\Roaming\\nltk_data...\n",
      "[nltk_data]    |   Package inaugural is already up-to-date!\n",
      "[nltk_data]    | Downloading package movie_reviews to\n",
      "[nltk_data]    |     C:\\Users\\Hp\\AppData\\Roaming\\nltk_data...\n"
     ]
    },
    {
     "name": "stderr",
     "output_type": "stream",
     "text": [
      "[nltk_data]    |   Package movie_reviews is already up-to-date!\n",
      "[nltk_data]    | Downloading package names to\n",
      "[nltk_data]    |     C:\\Users\\Hp\\AppData\\Roaming\\nltk_data...\n",
      "[nltk_data]    |   Package names is already up-to-date!\n",
      "[nltk_data]    | Downloading package shakespeare to\n",
      "[nltk_data]    |     C:\\Users\\Hp\\AppData\\Roaming\\nltk_data...\n",
      "[nltk_data]    |   Package shakespeare is already up-to-date!\n",
      "[nltk_data]    | Downloading package stopwords to\n",
      "[nltk_data]    |     C:\\Users\\Hp\\AppData\\Roaming\\nltk_data...\n"
     ]
    },
    {
     "name": "stderr",
     "output_type": "stream",
     "text": [
      "[nltk_data]    |   Package stopwords is already up-to-date!\n",
      "[nltk_data]    | Downloading package treebank to\n",
      "[nltk_data]    |     C:\\Users\\Hp\\AppData\\Roaming\\nltk_data...\n"
     ]
    }
   ],
   "source": [
    "import numpy as np\n",
    "import pandas as pd\n",
    "\n",
    "import nltk\n",
    "nltk.download('popular')\n",
    "from nltk.corpus import stopwords\n",
    "from nltk.tokenize import word_tokenize\n",
    "\n",
    "from Sastrawi.Stemmer.StemmerFactory import StemmerFactory "
   ]
  },
  {
   "cell_type": "markdown",
   "id": "752f43b1",
   "metadata": {},
   "source": [
    "### Menampilkan dokumen  dari hasil Crawling"
   ]
  },
  {
   "cell_type": "code",
   "execution_count": 2,
   "id": "ab0f6a15",
   "metadata": {},
   "outputs": [
    {
     "data": {
      "text/html": [
       "<div>\n",
       "<style scoped>\n",
       "    .dataframe tbody tr th:only-of-type {\n",
       "        vertical-align: middle;\n",
       "    }\n",
       "\n",
       "    .dataframe tbody tr th {\n",
       "        vertical-align: top;\n",
       "    }\n",
       "\n",
       "    .dataframe thead th {\n",
       "        text-align: right;\n",
       "    }\n",
       "</style>\n",
       "<table border=\"1\" class=\"dataframe\">\n",
       "  <thead>\n",
       "    <tr style=\"text-align: right;\">\n",
       "      <th></th>\n",
       "      <th>no</th>\n",
       "      <th>abstrak</th>\n",
       "      <th>kategori</th>\n",
       "      <th>kat_biner</th>\n",
       "    </tr>\n",
       "  </thead>\n",
       "  <tbody>\n",
       "    <tr>\n",
       "      <th>0</th>\n",
       "      <td>1</td>\n",
       "      <td>Perkembangan game yang semakin pesat, memberik...</td>\n",
       "      <td>rpl</td>\n",
       "      <td>0</td>\n",
       "    </tr>\n",
       "    <tr>\n",
       "      <th>1</th>\n",
       "      <td>2</td>\n",
       "      <td>Sistem pengenalan wajah adalah suatu sistem un...</td>\n",
       "      <td>cai</td>\n",
       "      <td>1</td>\n",
       "    </tr>\n",
       "    <tr>\n",
       "      <th>2</th>\n",
       "      <td>3</td>\n",
       "      <td>Sidik jari adalah salah satu karakteristik fis...</td>\n",
       "      <td>cai</td>\n",
       "      <td>1</td>\n",
       "    </tr>\n",
       "    <tr>\n",
       "      <th>3</th>\n",
       "      <td>4</td>\n",
       "      <td>Teknologi biometrik saat ini mengalami perkemb...</td>\n",
       "      <td>cai</td>\n",
       "      <td>1</td>\n",
       "    </tr>\n",
       "    <tr>\n",
       "      <th>4</th>\n",
       "      <td>5</td>\n",
       "      <td>Dalam setiap perusahaan tentunya memiliki data...</td>\n",
       "      <td>rpl</td>\n",
       "      <td>0</td>\n",
       "    </tr>\n",
       "  </tbody>\n",
       "</table>\n",
       "</div>"
      ],
      "text/plain": [
       "   no                                            abstrak kategori  kat_biner\n",
       "0   1  Perkembangan game yang semakin pesat, memberik...      rpl          0\n",
       "1   2  Sistem pengenalan wajah adalah suatu sistem un...      cai          1\n",
       "2   3  Sidik jari adalah salah satu karakteristik fis...      cai          1\n",
       "3   4  Teknologi biometrik saat ini mengalami perkemb...      cai          1\n",
       "4   5  Dalam setiap perusahaan tentunya memiliki data...      rpl          0"
      ]
     },
     "execution_count": 2,
     "metadata": {},
     "output_type": "execute_result"
    }
   ],
   "source": [
    "df = pd.read_csv(\"abstrakv1.csv\")\n",
    "df.head()"
   ]
  },
  {
   "cell_type": "markdown",
   "id": "a68cc1d1",
   "metadata": {},
   "source": [
    "## PREPROCESSING "
   ]
  },
  {
   "cell_type": "markdown",
   "id": "30019faa",
   "metadata": {},
   "source": [
    "Preprocessing merupakan proses awal yang akan mentransformasikan data masukan menjadi data dengan format yang sesuai dan siap untuk diproses (Setyohadi et al., 2017).  Tahapan dalam proses text preprocessing antara lain yaitu cleansing, tokenizing, filtering, stopword dan lain-lain. Penerapan tahap text preprocessing dapat berbeda-beda untuk setiap bahasa tergantung dengan kebutuhan, karena perbedaan dalam bahasa tentu memiliki arti yang berbeda untuk tiap katanya."
   ]
  },
  {
   "cell_type": "markdown",
   "id": "31329248",
   "metadata": {},
   "source": [
    "### Case Folding\n",
    "Case folding merupakan langkah dalam pengolahan data yang bertujuan untuk mengubah ataumenghilangkan semua huruf kapital pada dokumen menjadi huruf kecil"
   ]
  },
  {
   "cell_type": "code",
   "execution_count": 3,
   "id": "bc4434d0",
   "metadata": {},
   "outputs": [
    {
     "data": {
      "text/plain": [
       "0     perkembangan game yang semakin pesat, memberik...\n",
       "1     sistem pengenalan wajah adalah suatu sistem un...\n",
       "2     sidik jari adalah salah satu karakteristik fis...\n",
       "3     teknologi biometrik saat ini mengalami perkemb...\n",
       "4     dalam setiap perusahaan tentunya memiliki data...\n",
       "5     penggunaan teknologi mobile saat ini sangat ma...\n",
       "6     pengenalan tulisan tangan merupakan topik pene...\n",
       "7      citra senyum merupakan salah satu fitur biome...\n",
       "8     kantor badan kepegawaian kota bangkalan adalah...\n",
       "9     perusahaan pemerintah maupun swasta mempunyai ...\n",
       "10    penyusunan sistem pendukung keputusan pemiliha...\n",
       "11    penelitian ini membahas tentang perancangan si...\n",
       "12    deteksi manusia merupakan  suatu aplikasi yang...\n",
       "13    dengan prediksi yang baik, dapat dibuat rencan...\n",
       "14    berawal dari permintaan akan straw (sperma bek...\n",
       "15    obat merupakan salah satu kebutuhan penting da...\n",
       "16    seiring dengan perubahan dalam paradigma pemba...\n",
       "17    kabupaten bangkalan memiliki lahan pertanian s...\n",
       "18    pengenalan tulisan tangan adalah salah satu ca...\n",
       "19    perkembangan teknologi informasi beberapa deka...\n",
       "20    persaingan produk unggulan daerah semakin keta...\n",
       "21    bahasa madura sebagai salah satu bahasa daerah...\n",
       "22    komunikasi merupakan hal yang sangat penting d...\n",
       "23    layanan akademik merupakan usaha yang dilakuka...\n",
       "24    sesuai dengan peraturan yang telah ditentukan ...\n",
       "25    media pembelajaran merupakan salah satu solusi...\n",
       "26    jalan raya merupakan prasarana transportasi ya...\n",
       "27    optical font recognition (ofr) merupakan  tekn...\n",
       "28    dinas kebudayaan dan pariwisata provinsi jawa ...\n",
       "29    pengenalan obyek merupakan penelitian yang men...\n",
       "30    pengenalan wajah sudah berkembang sehingga per...\n",
       "31    pengenalan suara merupakan gagasan teknologi y...\n",
       "32    berbagai penelitian tentang citra sidik jari, ...\n",
       "33    pengenalan wajah merupakan salah satu teknolog...\n",
       "34    game adalah kata dari  bahasa inggris yang ber...\n",
       "35     sistem pengenalan karakter plat nomor kendara...\n",
       "36    bahasa madura merupakan bahasa lokal tradision...\n",
       "37    selama ini prediksi ketepatan kelulusan mahasi...\n",
       "38    pengenalan  pola  tulisan  tangan  adalah  seb...\n",
       "39    perkembangan  teknologi  informasi  dan  komun...\n",
       "40    pesatnya perkembangan teknologi saat ini telah...\n",
       "41    sosialisasi uu nomor 22 tahun 2009 merupakan h...\n",
       "42    sistem pengenalan sidik jari bertujuan untuk m...\n",
       "43    pemilihan rektor merupakan agenda rutin yang d...\n",
       "44    teknik data mining adalah suatu cara yang digu...\n",
       "45    permasalahan machine learning dan pattern reco...\n",
       "46    pendeteksian plagiarisme dilakukan untuk mende...\n",
       "47    teknologi pendeteksian obyek menggunakan kamer...\n",
       "48    pada era teknologi informasi ini banyak hal ya...\n",
       "49    perkembangan mobile phone akhir-akhir ini sema...\n",
       "Name: abstrak_baru, dtype: object"
      ]
     },
     "execution_count": 3,
     "metadata": {},
     "output_type": "execute_result"
    }
   ],
   "source": [
    "data_abstrak = df['abstrak']\n",
    "data_abstrak = data_abstrak.str.lower()\n",
    "df['abstrak_baru'] = data_abstrak\n",
    "df['abstrak_baru']"
   ]
  },
  {
   "cell_type": "markdown",
   "id": "c90f083b",
   "metadata": {},
   "source": [
    "### Menghilangkan Angka dan Remove Punctuation \n",
    "Remove Punctuation merupakan teknik penghilangan tanda baca yang digunakan dalam sebuah teks untuk membedakan antara kalimat dan bagian penyusunnya dan untukmemperjelas maknanya"
   ]
  },
  {
   "cell_type": "code",
   "execution_count": 4,
   "id": "a73e2133",
   "metadata": {},
   "outputs": [],
   "source": [
    "import re #library re (regular expression (regex)) dapat digunakan untuk menghapus karakter angka.\n",
    "import string #library String digunakan untuk memproses string Python standar\n",
    "\n",
    "def remove_number(text):\n",
    "    return  re.sub(r\"\\d+\", \"\", text)\n",
    "\n",
    "df['abstrak_baru'] = df['abstrak_baru'].apply(remove_number)\n",
    "\n",
    "#remove punctuation\n",
    "def remove_punctuation(text):\n",
    "    return text.translate(str.maketrans(\"\",\"\",string.punctuation))\n",
    "\n",
    "df['abstrak_baru'] = df['abstrak_baru'].apply(remove_punctuation)"
   ]
  },
  {
   "cell_type": "code",
   "execution_count": 5,
   "id": "575f27de",
   "metadata": {},
   "outputs": [
    {
     "data": {
      "text/plain": [
       "0     perkembangan game yang semakin pesat memberika...\n",
       "1     sistem pengenalan wajah adalah suatu sistem un...\n",
       "2     sidik jari adalah salah satu karakteristik fis...\n",
       "3     teknologi biometrik saat ini mengalami perkemb...\n",
       "4     dalam setiap perusahaan tentunya memiliki data...\n",
       "5     penggunaan teknologi mobile saat ini sangat ma...\n",
       "6     pengenalan tulisan tangan merupakan topik pene...\n",
       "7      citra senyum merupakan salah satu fitur biome...\n",
       "8     kantor badan kepegawaian kota bangkalan adalah...\n",
       "9     perusahaan pemerintah maupun swasta mempunyai ...\n",
       "10    penyusunan sistem pendukung keputusan pemiliha...\n",
       "11    penelitian ini membahas tentang perancangan si...\n",
       "12    deteksi manusia merupakan  suatu aplikasi yang...\n",
       "13    dengan prediksi yang baik dapat dibuat rencana...\n",
       "14    berawal dari permintaan akan straw sperma beku...\n",
       "15    obat merupakan salah satu kebutuhan penting da...\n",
       "16    seiring dengan perubahan dalam paradigma pemba...\n",
       "17    kabupaten bangkalan memiliki lahan pertanian s...\n",
       "18    pengenalan tulisan tangan adalah salah satu ca...\n",
       "19    perkembangan teknologi informasi beberapa deka...\n",
       "20    persaingan produk unggulan daerah semakin keta...\n",
       "21    bahasa madura sebagai salah satu bahasa daerah...\n",
       "22    komunikasi merupakan hal yang sangat penting d...\n",
       "23    layanan akademik merupakan usaha yang dilakuka...\n",
       "24    sesuai dengan peraturan yang telah ditentukan ...\n",
       "25    media pembelajaran merupakan salah satu solusi...\n",
       "26    jalan raya merupakan prasarana transportasi ya...\n",
       "27    optical font recognition ofr merupakan  teknik...\n",
       "28    dinas kebudayaan dan pariwisata provinsi jawa ...\n",
       "29    pengenalan obyek merupakan penelitian yang men...\n",
       "30    pengenalan wajah sudah berkembang sehingga per...\n",
       "31    pengenalan suara merupakan gagasan teknologi y...\n",
       "32    berbagai penelitian tentang citra sidik jari t...\n",
       "33    pengenalan wajah merupakan salah satu teknolog...\n",
       "34    game adalah kata dari  bahasa inggris yang ber...\n",
       "35     sistem pengenalan karakter plat nomor kendara...\n",
       "36    bahasa madura merupakan bahasa lokal tradision...\n",
       "37    selama ini prediksi ketepatan kelulusan mahasi...\n",
       "38    pengenalan  pola  tulisan  tangan  adalah  seb...\n",
       "39    perkembangan  teknologi  informasi  dan  komun...\n",
       "40    pesatnya perkembangan teknologi saat ini telah...\n",
       "41    sosialisasi uu nomor  tahun  merupakan hal yan...\n",
       "42    sistem pengenalan sidik jari bertujuan untuk m...\n",
       "43    pemilihan rektor merupakan agenda rutin yang d...\n",
       "44    teknik data mining adalah suatu cara yang digu...\n",
       "45    permasalahan machine learning dan pattern reco...\n",
       "46    pendeteksian plagiarisme dilakukan untuk mende...\n",
       "47    teknologi pendeteksian obyek menggunakan kamer...\n",
       "48    pada era teknologi informasi ini banyak hal ya...\n",
       "49    perkembangan mobile phone akhirakhir ini semak...\n",
       "Name: abstrak_baru, dtype: object"
      ]
     },
     "execution_count": 5,
     "metadata": {},
     "output_type": "execute_result"
    }
   ],
   "source": [
    "df['abstrak_baru']"
   ]
  },
  {
   "cell_type": "markdown",
   "id": "25d7de3c",
   "metadata": {},
   "source": [
    "### Stopword "
   ]
  },
  {
   "cell_type": "markdown",
   "id": "33472f94",
   "metadata": {},
   "source": [
    "Stopword adalah stopwords merupakan kata yang diabaikan dalam pemrosesan dan biasanya disimpan di dalam stop lists. Stop list ini berisi daftar kata umum yang mempunyai fungsi tapi tidak mempunyai arti. Contoh stopword dalam bahasa Indonesia adalah “yang”, “dan”, “di”, “dari”, dll. "
   ]
  },
  {
   "cell_type": "code",
   "execution_count": 6,
   "id": "8f2c196b",
   "metadata": {},
   "outputs": [],
   "source": [
    "def stopping_word(contents):    \n",
    "    data_kata = []\n",
    "    stop_words = stopwords.words('english')\n",
    "    stop_words2 = stopwords.words('indonesian')\n",
    "    stop_words.extend(stop_words2)\n",
    "    jmlData = contents.shape \n",
    "    for i in range(jmlData[0]):\n",
    "        word_tokens = word_tokenize(contents[i])\n",
    "        # print(word_tokens)\n",
    "            \n",
    "        word_tokens_no_stopwords = [w for w in word_tokens if not w in stop_words]\n",
    "\n",
    "        special_char = \"+=`@_!#$%^&*()<>?/\\|}{~:;.[],1234567890‘’'\" + '\"“”●'\n",
    "        out_list = [''.join(x for x in string if not x in special_char) for string in word_tokens_no_stopwords]\n",
    "        # print('List after removal of special characters:', out_list)\n",
    "\n",
    "        while '' in out_list:\n",
    "            out_list.remove('')\n",
    "        data_kata.append(out_list)\n",
    "    return data_kata"
   ]
  },
  {
   "cell_type": "code",
   "execution_count": 7,
   "id": "d3de7600",
   "metadata": {},
   "outputs": [],
   "source": [
    "stop_kata = stopping_word(df['abstrak_baru'])\n",
    "df['stop_kata'] = stop_kata"
   ]
  },
  {
   "cell_type": "code",
   "execution_count": 8,
   "id": "7f03a67a",
   "metadata": {},
   "outputs": [
    {
     "data": {
      "text/plain": [
       "0     [perkembangan, game, pesat, alternative, pemin...\n",
       "1     [sistem, pengenalan, wajah, sistem, mengenali,...\n",
       "2     [sidik, jari, salah, karakteristik, fisik, man...\n",
       "3     [teknologi, biometrik, mengalami, perkembangan...\n",
       "4     [perusahaan, memiliki, data, berkaitan, kegiat...\n",
       "5     [penggunaan, teknologi, mobile, marak, disampi...\n",
       "6     [pengenalan, tulisan, tangan, topik, penelitia...\n",
       "7     [citra, senyum, salah, fitur, biometrik, dijad...\n",
       "8     [kantor, badan, kepegawaian, kota, bangkalan, ...\n",
       "9     [perusahaan, pemerintah, swasta, tujuan, dicap...\n",
       "10    [penyusunan, sistem, pendukung, keputusan, pem...\n",
       "11    [penelitian, membahas, perancangan, sistem, in...\n",
       "12    [deteksi, manusia, aplikasi, berfungsi, mendet...\n",
       "13    [prediksi, rencana, kerja, perusahaan, efektif...\n",
       "14    [permintaan, straw, sperma, beku, sapi, mengha...\n",
       "15    [obat, salah, kebutuhan, rumah, sakit, kebutuh...\n",
       "16    [seiring, perubahan, paradigma, pembangunan, e...\n",
       "17    [kabupaten, bangkalan, memiliki, lahan, pertan...\n",
       "18    [pengenalan, tulisan, tangan, salah, cabang, p...\n",
       "19    [perkembangan, teknologi, informasi, dekade, p...\n",
       "20    [persaingan, produk, unggulan, daerah, ketat, ...\n",
       "21    [bahasa, madura, salah, bahasa, daerah, indone...\n",
       "22    [komunikasi, kehidupan, bermasyarakat, orang, ...\n",
       "23    [layanan, akademik, usaha, perguruan, kemudaha...\n",
       "24    [sesuai, peraturan, ditentukan, pemberi, beasi...\n",
       "25    [media, pembelajaran, salah, solusi, mempermud...\n",
       "26    [jalan, raya, prasarana, transportasi, vital, ...\n",
       "27    [optical, font, recognition, ofr, teknik, anal...\n",
       "28    [dinas, kebudayaan, pariwisata, provinsi, jawa...\n",
       "29    [pengenalan, obyek, penelitian, menggabungkan,...\n",
       "30    [pengenalan, wajah, berkembang, perkembangan, ...\n",
       "31    [pengenalan, suara, gagasan, teknologi, bertuj...\n",
       "32    [penelitian, citra, sidik, jari, pendeteksian,...\n",
       "33    [pengenalan, wajah, salah, teknologi, biometri...\n",
       "34    [game, bahasa, inggris, permainan, pertandinga...\n",
       "35    [sistem, pengenalan, karakter, plat, nomor, ke...\n",
       "36    [bahasa, madura, bahasa, lokal, tradisional, w...\n",
       "37    [prediksi, ketepatan, kelulusan, mahasiswa, ju...\n",
       "38    [pengenalan, pola, tulisan, tangan, teknik, di...\n",
       "39    [perkembangan, teknologi, informasi, komunikas...\n",
       "40    [pesatnya, perkembangan, teknologi, berpengaru...\n",
       "41    [sosialisasi, uu, nomor, kompleksitas, banyakn...\n",
       "42    [sistem, pengenalan, sidik, jari, bertujuan, m...\n",
       "43    [pemilihan, rektor, agenda, rutin, dilaksanaka...\n",
       "44    [teknik, data, mining, menggali, informasi, me...\n",
       "45    [permasalahan, machine, learning, pattern, rec...\n",
       "46    [pendeteksian, plagiarisme, mendeteksi, plagia...\n",
       "47    [teknologi, pendeteksian, obyek, kamera, siste...\n",
       "48    [era, teknologi, informasi, mejadi, disalah, s...\n",
       "49    [perkembangan, mobile, phone, akhirakhir, meni...\n",
       "Name: stop_kata, dtype: object"
      ]
     },
     "execution_count": 8,
     "metadata": {},
     "output_type": "execute_result"
    }
   ],
   "source": [
    "df['stop_kata']"
   ]
  }
 ],
 "metadata": {
  "kernelspec": {
   "display_name": "Python 3 (ipykernel)",
   "language": "python",
   "name": "python3"
  },
  "language_info": {
   "codemirror_mode": {
    "name": "ipython",
    "version": 3
   },
   "file_extension": ".py",
   "mimetype": "text/x-python",
   "name": "python",
   "nbconvert_exporter": "python",
   "pygments_lexer": "ipython3",
   "version": "3.9.0"
  }
 },
 "nbformat": 4,
 "nbformat_minor": 5
}